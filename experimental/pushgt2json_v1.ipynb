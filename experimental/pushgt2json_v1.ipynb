{
 "cells": [
  {
   "cell_type": "markdown",
   "metadata": {},
   "source": [
    "# Create INCAR and INVICON MOLA JSON\n",
    "version: 1\n",
    "\n",
    "info:\n",
    "- Create standard MOLA JSON\n",
    "\n",
    "author: nuno costa"
   ]
  },
  {
   "cell_type": "markdown",
   "metadata": {},
   "source": [
    "## MOLA Annotations Data Format"
   ]
  },
  {
   "cell_type": "markdown",
   "metadata": {},
   "source": [
    "If you wish to combine multiple datasets, it is often useful to convert them into a unified data format. \n",
    "\n",
    "Conventions:"
   ]
  },
  {
   "cell_type": "code",
   "execution_count": 1,
   "metadata": {
    "tags": []
   },
   "outputs": [
    {
     "ename": "SyntaxError",
     "evalue": "invalid syntax (1066840000.py, line 58)",
     "output_type": "error",
     "traceback": [
      "\u001b[0;36m  File \u001b[0;32m\"/tmp/ipykernel_386377/1066840000.py\"\u001b[0;36m, line \u001b[0;32m58\u001b[0m\n\u001b[0;31m    \"image_id\": int,\u001b[0m\n\u001b[0m    ^\u001b[0m\n\u001b[0;31mSyntaxError\u001b[0m\u001b[0;31m:\u001b[0m invalid syntax\n"
     ]
    }
   ],
   "source": [
    "\n",
    " #ANNOTATIONS FORMAT (BASED ON COCO)\n",
    "\n",
    " #Annotations format keys:\n",
    "\n",
    "{ \"info\": None, \n",
    "\"licenses\": [], #TODO\n",
    "\"categories\": [], #NOT ZERO-PADDED (from 1 to n) WARNING: Labelling in most algorithms is zero padded , be careful \n",
    "\"images\": [],\n",
    "\"annotations\": [],\n",
    "\"videos\": [], \n",
    "\"video_annotations\": [], #TODO\n",
    "\"tracks\": [], #TODO - only for Object Tracking\n",
    "\"segment_info\": [], #TODO\n",
    "\"datasets\": [{'name': 'INCAR', 'id': 1}, {'name': 'INVICON', 'id': 2}] #NOT ZERO-PADDED (from 1 to n) \n",
    "}\n",
    "\n",
    "#IMPORTANT: CONVENTION, no zero-padding, you need to implement the zero padding afterwards (most algorithms like yolo and mmaction2 need zero-padding)\n",
    "\n",
    "#1 object definition:\n",
    "\n",
    "info: {\n",
    " \"year\": int, \n",
    " \"version\": str, \n",
    " \"description\": str, \n",
    " \"contributor\": str, \n",
    " \"url\": str, \n",
    " \"date_created\": datetime,\n",
    "}\n",
    "\n",
    "license: {\n",
    " \"id\": int, \n",
    " \"name\": str, \n",
    " \"url\": str,\n",
    "}\n",
    "\n",
    "category: {\n",
    " \"id\": int, \n",
    " \"name\": str, \n",
    " \"supercategory\": str,\n",
    " \"dataset\": int, #dataset_id\n",
    "}\n",
    "\n",
    "image: {\n",
    " \"id\" : int,\n",
    " \"video_id\": int, \n",
    " \"file_name\" : str,\n",
    " \"license\" : int,\n",
    " \"dataset\": int, #dataset_id\n",
    " # Redundant fields for COCO-compatibility\n",
    " \"width\": int,\n",
    " \"height\": int,\n",
    " \"frame_index\": int, #frame index from original video_id\n",
    " \"date_captured\": datetime,\n",
    "}\n",
    "\n",
    "annotation: { #rawframes annotation\n",
    " \"category_id\": int\n",
    " \"image_id\": int,\n",
    " #\"track_id\": int, # NOT FOR ACTION, ONLY FOR OBJECT TRACKING\n",
    " \"bbox\": [x,y,width,height],\n",
    " \"area\": float,\n",
    " \"dataset\": int, #dataset_id\n",
    " # Redundant field for compatibility with COCO scripts\n",
    " \"id\": int,\n",
    " \"iscrowd\": 0 or 1,  (iscrowd=1) are used to label large groups of objects (e.g. a crowd of people)\n",
    " \"segmentation\": RLE(iscrowd=1) or [polygon](iscrowd=0), \n",
    "\n",
    "}\n",
    "\n",
    "video: { \n",
    " \"id\": int,\n",
    " \"name\": str,\n",
    " \"width\" : int,\n",
    " \"height\" : int,\n",
    " \"total_frames\": int, # TOTAL NUMBER OF FRAMES OF THE VIDEO\n",
    " \"fps\": int,\n",
    " \"dataset\": int, #dataset_id\n",
    " #\"metadata\": dict,  # Metadata about the video - NOT NECESSARY ADDITIONAL DICT\n",
    "}\n",
    "\n",
    "video_annotation: { #TODO\n",
    " \"id\": int,\n",
    " \"category_id\": int, #label\n",
    " \"video_id\": int,\n",
    " \"frame_start\": int, #in frames, then it can be converted using the fps\n",
    " \"frame_end\":int, #in frames\n",
    " \"label_frames\": int, # TOTAL NUMBER OF FRAMES OF LABEL category_id\n",
    " \"dataset\": int, #dataset_id\n",
    "}\n",
    "\n",
    "\n",
    "\n",
    "segment: { #TODO\n",
    " \"id\": int, \n",
    " \"category_id\": int, \n",
    " \"area\": int, \n",
    " \"bbox\": [x,y,width,height], \n",
    " # Redundant field for compatibility with COCO scripts\n",
    " \"iscrowd\": 0 or 1,\n",
    "}\n",
    "\n",
    "\n",
    "track: { #DOES IT MAKE SENSE TO TRACT ACTIONS INSIDE THE VIDEO? NO- ONLY OBJECTS\n",
    " \"id\": int,\n",
    " \"category_id\": int,\n",
    " \"video_id\": int\n",
    "}"
   ]
  },
  {
   "cell_type": "markdown",
   "metadata": {},
   "source": [
    "## SETUP"
   ]
  },
  {
   "cell_type": "code",
   "execution_count": 107,
   "metadata": {},
   "outputs": [],
   "source": [
    "from annotate_v5 import *\n",
    "import platform \n",
    "import json\n",
    "import os\n",
    "import sys\n",
    "from itertools import groupby"
   ]
  },
  {
   "cell_type": "code",
   "execution_count": 108,
   "metadata": {},
   "outputs": [
    {
     "name": "stdout",
     "output_type": "stream",
     "text": [
      "OS: Linux-5.4.0-99-generic-x86_64-with-glibc2.10\n",
      "root dir: /mnt/Data-Ext/Recordings/EASYRIDE/P19/\n",
      "OS separator: /\n"
     ]
    }
   ],
   "source": [
    "#Define root dir dependent on OS\n",
    "rdir='D:/external_datasets/MOLA/' #WARNING needs to be root datasets \n",
    "print('OS: {}'.format(platform.platform()))\n",
    "if str(platform.platform()).upper().find('linux'.upper())>-1: rdir=\"/mnt/Data-Ext/Recordings/EASYRIDE/P19/\" #'/mnt/d/external_datasets/'\n",
    "print('root dir: {}'.format(rdir))\n",
    "print('OS separator: {}'.format(os.path.sep))"
   ]
  },
  {
   "cell_type": "markdown",
   "metadata": {},
   "source": [
    "# SINGLE CASE STUDY"
   ]
  },
  {
   "cell_type": "markdown",
   "metadata": {},
   "source": [
    "### INIT motionLAB JSON\n",
    "- uses annotate.init_json() function"
   ]
  },
  {
   "cell_type": "code",
   "execution_count": 109,
   "metadata": {},
   "outputs": [],
   "source": [
    "res={\n",
    "    'rgb': [2048, 1536], #w,h\n",
    "    'thermal': [640,512],\n",
    "    'pointcloud': [640,576],\n",
    "    'fps': 30\n",
    "}"
   ]
  },
  {
   "cell_type": "code",
   "execution_count": 110,
   "metadata": {},
   "outputs": [],
   "source": [
    "def init_json(file='push_mola.json'):\n",
    "    output = {\n",
    "        \"info\": None,\n",
    "        \"licenses\": [],\n",
    "        \"categories\": [],\n",
    "        \"videos\": [],\n",
    "        \"images\": [],\n",
    "        \"tracks\": [],\n",
    "        \"segment_info\": [],\n",
    "        \"annotations\": [],\n",
    "        \"video_annotations\": [],\n",
    "        \"datasets\": [] #[{'name': 'COCO', 'id': 1}, {'name': 'TAO', 'id': 2}] #Not zero-padded\n",
    "    }\n",
    "    output['info'] = {\n",
    "        \"description\": \"MOLA Dataset\",\n",
    "        \"url\": \"\",\n",
    "        \"version\": \"1\",\n",
    "        \"year\": 2021,\n",
    "        \"date_created\": datetime.datetime.utcnow().isoformat(' ')\n",
    "    }\n",
    "\n",
    "    with open(file, 'w') as f:\n",
    "        json.dump(output, f)\n",
    "    print(\"JSON INITIATED : {}\".format(file))"
   ]
  },
  {
   "cell_type": "code",
   "execution_count": 111,
   "metadata": {},
   "outputs": [
    {
     "name": "stdout",
     "output_type": "stream",
     "text": [
      "JSON INITIATED : /mnt/Data-Ext/Recordings/EASYRIDE/P19/INCAR/push_mola.json\n",
      "info 5\n",
      "licenses 0\n",
      "categories 0\n",
      "videos 0\n",
      "images 0\n",
      "tracks 0\n",
      "segment_info 0\n",
      "annotations 0\n",
      "video_annotations 0\n",
      "datasets 1\n"
     ]
    }
   ],
   "source": [
    "molafile=rdir+'INCAR/'+'push_mola.json'\n",
    "init_json(file=molafile)\n",
    "molajson =  json.load(open(molafile))\n",
    "molajson['datasets']=[{'name': 'INCAR', 'id': 1}]\n",
    "with open(molafile, 'w') as f:\n",
    "    json.dump(molajson, f)\n",
    "for k in molajson:\n",
    "    print(k, len(molajson[k]))"
   ]
  },
  {
   "cell_type": "markdown",
   "metadata": {},
   "source": [
    "### IMPORT JSON LABELS"
   ]
  },
  {
   "cell_type": "code",
   "execution_count": 112,
   "metadata": {},
   "outputs": [],
   "source": [
    "file=rdir+\"INCAR/20210422/Session1/C1_P7_P8_1/gt_nvs_push.json\"\n",
    "gt=json.load(open(file))\n",
    "molaformatjson = json.load(open(rdir+'JSONS/INCAR/old/violent_incar_rgb.json')) #EXAMPLES"
   ]
  },
  {
   "cell_type": "code",
   "execution_count": 113,
   "metadata": {},
   "outputs": [],
   "source": [
    "def parse_path(path):\n",
    "    parsed_path = path.replace('\\\\', '/')\n",
    "    parsed_path = parsed_path.replace('\\ ', '/')\n",
    "    return parsed_path"
   ]
  },
  {
   "cell_type": "code",
   "execution_count": 114,
   "metadata": {},
   "outputs": [],
   "source": [
    "def fix_pahts(gt, remove_gt=True, dataset_root=\"INCAR\"):\n",
    "    #fix gt datasource\n",
    "    paths=gt['gTruth2']['DataSource']\n",
    "    if isinstance(paths, dict) and 'Source' in paths: paths=paths['Source']\n",
    "    paths=[parse_path(p) for p in paths]\n",
    "    #remove MATLAB BUG: 'C:\\\\Tools\\\\MATLAB\\\\R2020a\\\\examples\\\\symbolic\\\\data\\\\196.png'\n",
    "    originalpath=paths[0]\n",
    "    for p in paths: #verify it is not a matlab path the first one\n",
    "        if not p.find(\"MATLAB\") >-1 : \n",
    "            originalpath=p\n",
    "            break\n",
    "    originalpath=parse_path(originalpath)\n",
    "    paths = ['/'.join(originalpath.split('/')[:-1]+[p.split('/')[-1]]) if p.find(\"MATLAB\") > -1 else p for p in paths]  \n",
    "    #remove root dir \n",
    "    paths = ['/'.join(p.split('/')[p.split('/').index(dataset_root):]) for p in paths] \n",
    "    #remove gt dir\n",
    "    if remove_gt: paths = [p.replace(\"/gt/\",\"/\") if p.find('/gt/')>-1 else p for p in paths]\n",
    "    gt['gTruth2']['DataSource']=paths\n",
    "    return gt\n",
    "gt=fix_pahts(gt)"
   ]
  },
  {
   "cell_type": "markdown",
   "metadata": {},
   "source": [
    "#### CATEGORIES IMPORT"
   ]
  },
  {
   "cell_type": "code",
   "execution_count": 115,
   "metadata": {},
   "outputs": [
    {
     "data": {
      "text/plain": [
       "{'name': 'VIOLENT', 'id': 1, 'dataset': 1}"
      ]
     },
     "metadata": {},
     "output_type": "display_data"
    }
   ],
   "source": [
    "#EXAMPLE\n",
    "display(molaformatjson[\"categories\"][0])"
   ]
  },
  {
   "cell_type": "code",
   "execution_count": 116,
   "metadata": {},
   "outputs": [
    {
     "data": {
      "text/plain": [
       "[{'Name': 'pushing',\n",
       "  'Type': 'Scene',\n",
       "  'LabelColor': [0, 0.7241, 0.6552],\n",
       "  'Group': 'None',\n",
       "  'Description': ''}]"
      ]
     },
     "execution_count": 116,
     "metadata": {},
     "output_type": "execute_result"
    }
   ],
   "source": [
    "gt['gTruth2']['LabelDefinitions']"
   ]
  },
  {
   "cell_type": "code",
   "execution_count": 117,
   "metadata": {},
   "outputs": [
    {
     "name": "stderr",
     "output_type": "stream",
     "text": [
      "100%|██████████| 1/1 [00:00<00:00, 11586.48it/s]"
     ]
    },
    {
     "name": "stdout",
     "output_type": "stream",
     "text": [
      "\n",
      ">> categories:\n",
      " [{'name': 'pushing', 'id': 1, 'dataset': 1}, {'name': 'nonpushing', 'id': 2, 'dataset': 1}]\n"
     ]
    },
    {
     "name": "stderr",
     "output_type": "stream",
     "text": [
      "\n"
     ]
    }
   ],
   "source": [
    "def import_categories(molajson, gt, start_id=0):\n",
    "    dataset=molajson[\"datasets\"][0]['id']\n",
    "    # IMPORT categories name and id\n",
    "    cat_l=[]\n",
    "    cat_l_id=[]\n",
    "    cat_l_dset=[]\n",
    "    cat=gt['gTruth2']['LabelDefinitions']\n",
    "    for i,c in enumerate(tqdm(cat)):\n",
    "        cat_l.append(c['Name'])\n",
    "        cat_l_id.append(start_id+i+1) # id start from 1\n",
    "        cat_l_dset.append(dataset) # dataset index\n",
    "        molajson['categories'].append({'name':cat_l[i],'id':cat_l_id[i],'dataset':cat_l_dset[i]})\n",
    "    # ADDITIONAL CATEGORIES: MANUAL\n",
    "    name='nonpushing'\n",
    "    cid=len(cat_l)+1\n",
    "    molajson['categories'].append({'name':name,'id':cid,'dataset':dataset})\n",
    "    cat_l.append(name)\n",
    "    cat_l_id.append(cid)\n",
    "    cat_l_dset.append(dataset)\n",
    "    print(\"\\n>> categories:\\n\", molajson['categories'][-2:])\n",
    "    return molajson, cat_l, cat_l_id, cat_l_dset\n",
    "molajson, cat_l, cat_l_id, cat_l_dset=import_categories(molajson, gt)"
   ]
  },
  {
   "cell_type": "markdown",
   "metadata": {},
   "source": [
    "#### VIDEO IMPORT "
   ]
  },
  {
   "cell_type": "code",
   "execution_count": 118,
   "metadata": {
    "tags": []
   },
   "outputs": [
    {
     "name": "stdout",
     "output_type": "stream",
     "text": [
      "\n",
      ">> video:\n",
      " [{'name': 'INCAR/20210422/Session1/C1_P7_P8_1/INCAR_20210422_Session1_C1_P7_P8_1_rgb.mp4', 'id': 1, 'width': 2048, 'height': 1536, 'sensor': 'rgb', 'fps': 30, 'total_frames': 575, 'dataset': 1}]\n"
     ]
    }
   ],
   "source": [
    "def import_videos(molajson, gt, res, start_id=0, sensor=\"rgb\", ext=\".mp4\"):\n",
    "    dataset=molajson[\"datasets\"][0]['id']\n",
    "    #single-level:\n",
    "    vid=start_id+1\n",
    "    video_l=[]\n",
    "    video_l_id=[]\n",
    "    total_frames=len(gt['gTruth2']['DataSource'])\n",
    "    #INCAR/20210521/Session 2/C9_P4_P3_2/rgb\n",
    "    videon='_'.join(gt['gTruth2']['DataSource'][0].split('/')[:4])+'_'+sensor+ext #f'video_{vid}_{sensor}{ext}' \n",
    "    videon=videon.replace(' ','_') # remove trailing spaces in \"Session 1\"\n",
    "    video='/'.join(gt['gTruth2']['DataSource'][0].split('/')[:4])+'/'+videon\n",
    "    video_l.append(video)\n",
    "    video_l_id.append(vid)\n",
    "    i=0 #no loop\n",
    "    molajson['videos'].append({'name':video_l[i],\n",
    "                               'id':video_l_id[i],\n",
    "                               'width': res[sensor][0],\n",
    "                               'height': res[sensor][1],\n",
    "                               'sensor': sensor,\n",
    "                               'fps': res['fps'],\n",
    "                               'total_frames': total_frames,\n",
    "                               'dataset':dataset})\n",
    "    print(\"\\n>> video:\\n\", molajson['videos'][-2:])\n",
    "    return molajson, video_l, video_l_id\n",
    "molajson, video_l, video_l_id=import_videos(molajson, gt, res)"
   ]
  },
  {
   "cell_type": "markdown",
   "metadata": {},
   "source": [
    "#### IMAGE IMPORT"
   ]
  },
  {
   "cell_type": "code",
   "execution_count": 119,
   "metadata": {},
   "outputs": [
    {
     "data": {
      "text/plain": [
       "{'file_name': 'INCAR/20210422/Session1/C10_P7_P8_1/rgb/1.png',\n",
       " 'id': 1,\n",
       " 'video_id': 1,\n",
       " 'caption': 'Session1',\n",
       " 'width': 2048,\n",
       " 'height': 1536,\n",
       " 'frame_index': 1,\n",
       " 'date_captured': 'INCAR',\n",
       " 'dataset': 1}"
      ]
     },
     "metadata": {},
     "output_type": "display_data"
    }
   ],
   "source": [
    "#EXAMPLE\n",
    "display(molaformatjson[\"images\"][0])"
   ]
  },
  {
   "cell_type": "code",
   "execution_count": 120,
   "metadata": {
    "tags": []
   },
   "outputs": [
    {
     "data": {
      "text/plain": [
       "['INCAR/20210422/Session1/C1_P7_P8_1/nvs_push/1.jpg',\n",
       " 'INCAR/20210422/Session1/C1_P7_P8_1/nvs_push/2.jpg',\n",
       " 'INCAR/20210422/Session1/C1_P7_P8_1/nvs_push/3.jpg',\n",
       " 'INCAR/20210422/Session1/C1_P7_P8_1/nvs_push/4.jpg',\n",
       " 'INCAR/20210422/Session1/C1_P7_P8_1/nvs_push/5.jpg',\n",
       " 'INCAR/20210422/Session1/C1_P7_P8_1/nvs_push/6.jpg',\n",
       " 'INCAR/20210422/Session1/C1_P7_P8_1/nvs_push/7.jpg',\n",
       " 'INCAR/20210422/Session1/C1_P7_P8_1/nvs_push/8.jpg',\n",
       " 'INCAR/20210422/Session1/C1_P7_P8_1/nvs_push/9.jpg',\n",
       " 'INCAR/20210422/Session1/C1_P7_P8_1/nvs_push/10.jpg',\n",
       " 'INCAR/20210422/Session1/C1_P7_P8_1/nvs_push/11.jpg',\n",
       " 'INCAR/20210422/Session1/C1_P7_P8_1/nvs_push/12.jpg',\n",
       " 'INCAR/20210422/Session1/C1_P7_P8_1/nvs_push/13.jpg',\n",
       " 'INCAR/20210422/Session1/C1_P7_P8_1/nvs_push/14.jpg',\n",
       " 'INCAR/20210422/Session1/C1_P7_P8_1/nvs_push/15.jpg',\n",
       " 'INCAR/20210422/Session1/C1_P7_P8_1/nvs_push/16.jpg',\n",
       " 'INCAR/20210422/Session1/C1_P7_P8_1/nvs_push/17.jpg',\n",
       " 'INCAR/20210422/Session1/C1_P7_P8_1/nvs_push/18.jpg',\n",
       " 'INCAR/20210422/Session1/C1_P7_P8_1/nvs_push/19.jpg',\n",
       " 'INCAR/20210422/Session1/C1_P7_P8_1/nvs_push/20.jpg',\n",
       " 'INCAR/20210422/Session1/C1_P7_P8_1/nvs_push/21.jpg',\n",
       " 'INCAR/20210422/Session1/C1_P7_P8_1/nvs_push/22.jpg',\n",
       " 'INCAR/20210422/Session1/C1_P7_P8_1/nvs_push/23.jpg',\n",
       " 'INCAR/20210422/Session1/C1_P7_P8_1/nvs_push/24.jpg',\n",
       " 'INCAR/20210422/Session1/C1_P7_P8_1/nvs_push/25.jpg',\n",
       " 'INCAR/20210422/Session1/C1_P7_P8_1/nvs_push/26.jpg',\n",
       " 'INCAR/20210422/Session1/C1_P7_P8_1/nvs_push/27.jpg',\n",
       " 'INCAR/20210422/Session1/C1_P7_P8_1/nvs_push/28.jpg',\n",
       " 'INCAR/20210422/Session1/C1_P7_P8_1/nvs_push/29.jpg',\n",
       " 'INCAR/20210422/Session1/C1_P7_P8_1/nvs_push/30.jpg',\n",
       " 'INCAR/20210422/Session1/C1_P7_P8_1/nvs_push/31.jpg',\n",
       " 'INCAR/20210422/Session1/C1_P7_P8_1/nvs_push/32.jpg',\n",
       " 'INCAR/20210422/Session1/C1_P7_P8_1/nvs_push/33.jpg',\n",
       " 'INCAR/20210422/Session1/C1_P7_P8_1/nvs_push/34.jpg',\n",
       " 'INCAR/20210422/Session1/C1_P7_P8_1/nvs_push/35.jpg',\n",
       " 'INCAR/20210422/Session1/C1_P7_P8_1/nvs_push/36.jpg',\n",
       " 'INCAR/20210422/Session1/C1_P7_P8_1/nvs_push/37.jpg',\n",
       " 'INCAR/20210422/Session1/C1_P7_P8_1/nvs_push/38.jpg',\n",
       " 'INCAR/20210422/Session1/C1_P7_P8_1/nvs_push/39.jpg',\n",
       " 'INCAR/20210422/Session1/C1_P7_P8_1/nvs_push/40.jpg',\n",
       " 'INCAR/20210422/Session1/C1_P7_P8_1/nvs_push/41.jpg',\n",
       " 'INCAR/20210422/Session1/C1_P7_P8_1/nvs_push/42.jpg',\n",
       " 'INCAR/20210422/Session1/C1_P7_P8_1/nvs_push/43.jpg',\n",
       " 'INCAR/20210422/Session1/C1_P7_P8_1/nvs_push/44.jpg',\n",
       " 'INCAR/20210422/Session1/C1_P7_P8_1/nvs_push/45.jpg',\n",
       " 'INCAR/20210422/Session1/C1_P7_P8_1/nvs_push/46.jpg',\n",
       " 'INCAR/20210422/Session1/C1_P7_P8_1/nvs_push/47.jpg',\n",
       " 'INCAR/20210422/Session1/C1_P7_P8_1/nvs_push/48.jpg',\n",
       " 'INCAR/20210422/Session1/C1_P7_P8_1/nvs_push/49.jpg',\n",
       " 'INCAR/20210422/Session1/C1_P7_P8_1/nvs_push/50.jpg',\n",
       " 'INCAR/20210422/Session1/C1_P7_P8_1/nvs_push/51.jpg',\n",
       " 'INCAR/20210422/Session1/C1_P7_P8_1/nvs_push/52.jpg',\n",
       " 'INCAR/20210422/Session1/C1_P7_P8_1/nvs_push/53.jpg',\n",
       " 'INCAR/20210422/Session1/C1_P7_P8_1/nvs_push/54.jpg',\n",
       " 'INCAR/20210422/Session1/C1_P7_P8_1/nvs_push/55.jpg',\n",
       " 'INCAR/20210422/Session1/C1_P7_P8_1/nvs_push/56.jpg',\n",
       " 'INCAR/20210422/Session1/C1_P7_P8_1/nvs_push/57.jpg',\n",
       " 'INCAR/20210422/Session1/C1_P7_P8_1/nvs_push/58.jpg',\n",
       " 'INCAR/20210422/Session1/C1_P7_P8_1/nvs_push/59.jpg',\n",
       " 'INCAR/20210422/Session1/C1_P7_P8_1/nvs_push/60.jpg',\n",
       " 'INCAR/20210422/Session1/C1_P7_P8_1/nvs_push/61.jpg',\n",
       " 'INCAR/20210422/Session1/C1_P7_P8_1/nvs_push/62.jpg',\n",
       " 'INCAR/20210422/Session1/C1_P7_P8_1/nvs_push/63.jpg',\n",
       " 'INCAR/20210422/Session1/C1_P7_P8_1/nvs_push/64.jpg',\n",
       " 'INCAR/20210422/Session1/C1_P7_P8_1/nvs_push/65.jpg',\n",
       " 'INCAR/20210422/Session1/C1_P7_P8_1/nvs_push/66.jpg',\n",
       " 'INCAR/20210422/Session1/C1_P7_P8_1/nvs_push/67.jpg',\n",
       " 'INCAR/20210422/Session1/C1_P7_P8_1/nvs_push/68.jpg',\n",
       " 'INCAR/20210422/Session1/C1_P7_P8_1/nvs_push/69.jpg',\n",
       " 'INCAR/20210422/Session1/C1_P7_P8_1/nvs_push/70.jpg',\n",
       " 'INCAR/20210422/Session1/C1_P7_P8_1/nvs_push/71.jpg',\n",
       " 'INCAR/20210422/Session1/C1_P7_P8_1/nvs_push/72.jpg',\n",
       " 'INCAR/20210422/Session1/C1_P7_P8_1/nvs_push/73.jpg',\n",
       " 'INCAR/20210422/Session1/C1_P7_P8_1/nvs_push/74.jpg',\n",
       " 'INCAR/20210422/Session1/C1_P7_P8_1/nvs_push/75.jpg',\n",
       " 'INCAR/20210422/Session1/C1_P7_P8_1/nvs_push/76.jpg',\n",
       " 'INCAR/20210422/Session1/C1_P7_P8_1/nvs_push/77.jpg',\n",
       " 'INCAR/20210422/Session1/C1_P7_P8_1/nvs_push/78.jpg',\n",
       " 'INCAR/20210422/Session1/C1_P7_P8_1/nvs_push/79.jpg',\n",
       " 'INCAR/20210422/Session1/C1_P7_P8_1/nvs_push/80.jpg',\n",
       " 'INCAR/20210422/Session1/C1_P7_P8_1/nvs_push/81.jpg',\n",
       " 'INCAR/20210422/Session1/C1_P7_P8_1/nvs_push/82.jpg',\n",
       " 'INCAR/20210422/Session1/C1_P7_P8_1/nvs_push/83.jpg',\n",
       " 'INCAR/20210422/Session1/C1_P7_P8_1/nvs_push/84.jpg',\n",
       " 'INCAR/20210422/Session1/C1_P7_P8_1/nvs_push/85.jpg',\n",
       " 'INCAR/20210422/Session1/C1_P7_P8_1/nvs_push/86.jpg',\n",
       " 'INCAR/20210422/Session1/C1_P7_P8_1/nvs_push/87.jpg',\n",
       " 'INCAR/20210422/Session1/C1_P7_P8_1/nvs_push/88.jpg',\n",
       " 'INCAR/20210422/Session1/C1_P7_P8_1/nvs_push/89.jpg',\n",
       " 'INCAR/20210422/Session1/C1_P7_P8_1/nvs_push/90.jpg',\n",
       " 'INCAR/20210422/Session1/C1_P7_P8_1/nvs_push/91.jpg',\n",
       " 'INCAR/20210422/Session1/C1_P7_P8_1/nvs_push/92.jpg',\n",
       " 'INCAR/20210422/Session1/C1_P7_P8_1/nvs_push/93.jpg',\n",
       " 'INCAR/20210422/Session1/C1_P7_P8_1/nvs_push/94.jpg',\n",
       " 'INCAR/20210422/Session1/C1_P7_P8_1/nvs_push/95.jpg',\n",
       " 'INCAR/20210422/Session1/C1_P7_P8_1/nvs_push/96.jpg',\n",
       " 'INCAR/20210422/Session1/C1_P7_P8_1/nvs_push/97.jpg',\n",
       " 'INCAR/20210422/Session1/C1_P7_P8_1/nvs_push/98.jpg',\n",
       " 'INCAR/20210422/Session1/C1_P7_P8_1/nvs_push/99.jpg',\n",
       " 'INCAR/20210422/Session1/C1_P7_P8_1/nvs_push/100.jpg',\n",
       " 'INCAR/20210422/Session1/C1_P7_P8_1/nvs_push/101.jpg',\n",
       " 'INCAR/20210422/Session1/C1_P7_P8_1/nvs_push/102.jpg',\n",
       " 'INCAR/20210422/Session1/C1_P7_P8_1/nvs_push/103.jpg',\n",
       " 'INCAR/20210422/Session1/C1_P7_P8_1/nvs_push/104.jpg',\n",
       " 'INCAR/20210422/Session1/C1_P7_P8_1/nvs_push/105.jpg',\n",
       " 'INCAR/20210422/Session1/C1_P7_P8_1/nvs_push/106.jpg',\n",
       " 'INCAR/20210422/Session1/C1_P7_P8_1/nvs_push/107.jpg',\n",
       " 'INCAR/20210422/Session1/C1_P7_P8_1/nvs_push/108.jpg',\n",
       " 'INCAR/20210422/Session1/C1_P7_P8_1/nvs_push/109.jpg',\n",
       " 'INCAR/20210422/Session1/C1_P7_P8_1/nvs_push/110.jpg',\n",
       " 'INCAR/20210422/Session1/C1_P7_P8_1/nvs_push/111.jpg',\n",
       " 'INCAR/20210422/Session1/C1_P7_P8_1/nvs_push/112.jpg',\n",
       " 'INCAR/20210422/Session1/C1_P7_P8_1/nvs_push/113.jpg',\n",
       " 'INCAR/20210422/Session1/C1_P7_P8_1/nvs_push/114.jpg',\n",
       " 'INCAR/20210422/Session1/C1_P7_P8_1/nvs_push/115.jpg',\n",
       " 'INCAR/20210422/Session1/C1_P7_P8_1/nvs_push/116.jpg',\n",
       " 'INCAR/20210422/Session1/C1_P7_P8_1/nvs_push/117.jpg',\n",
       " 'INCAR/20210422/Session1/C1_P7_P8_1/nvs_push/118.jpg',\n",
       " 'INCAR/20210422/Session1/C1_P7_P8_1/nvs_push/119.jpg',\n",
       " 'INCAR/20210422/Session1/C1_P7_P8_1/nvs_push/120.jpg',\n",
       " 'INCAR/20210422/Session1/C1_P7_P8_1/nvs_push/121.jpg',\n",
       " 'INCAR/20210422/Session1/C1_P7_P8_1/nvs_push/122.jpg',\n",
       " 'INCAR/20210422/Session1/C1_P7_P8_1/nvs_push/123.jpg',\n",
       " 'INCAR/20210422/Session1/C1_P7_P8_1/nvs_push/124.jpg',\n",
       " 'INCAR/20210422/Session1/C1_P7_P8_1/nvs_push/125.jpg',\n",
       " 'INCAR/20210422/Session1/C1_P7_P8_1/nvs_push/126.jpg',\n",
       " 'INCAR/20210422/Session1/C1_P7_P8_1/nvs_push/127.jpg',\n",
       " 'INCAR/20210422/Session1/C1_P7_P8_1/nvs_push/128.jpg',\n",
       " 'INCAR/20210422/Session1/C1_P7_P8_1/nvs_push/129.jpg',\n",
       " 'INCAR/20210422/Session1/C1_P7_P8_1/nvs_push/130.jpg',\n",
       " 'INCAR/20210422/Session1/C1_P7_P8_1/nvs_push/131.jpg',\n",
       " 'INCAR/20210422/Session1/C1_P7_P8_1/nvs_push/132.jpg',\n",
       " 'INCAR/20210422/Session1/C1_P7_P8_1/nvs_push/133.jpg',\n",
       " 'INCAR/20210422/Session1/C1_P7_P8_1/nvs_push/134.jpg',\n",
       " 'INCAR/20210422/Session1/C1_P7_P8_1/nvs_push/135.jpg',\n",
       " 'INCAR/20210422/Session1/C1_P7_P8_1/nvs_push/136.jpg',\n",
       " 'INCAR/20210422/Session1/C1_P7_P8_1/nvs_push/137.jpg',\n",
       " 'INCAR/20210422/Session1/C1_P7_P8_1/nvs_push/138.jpg',\n",
       " 'INCAR/20210422/Session1/C1_P7_P8_1/nvs_push/139.jpg',\n",
       " 'INCAR/20210422/Session1/C1_P7_P8_1/nvs_push/140.jpg',\n",
       " 'INCAR/20210422/Session1/C1_P7_P8_1/nvs_push/141.jpg',\n",
       " 'INCAR/20210422/Session1/C1_P7_P8_1/nvs_push/142.jpg',\n",
       " 'INCAR/20210422/Session1/C1_P7_P8_1/nvs_push/143.jpg',\n",
       " 'INCAR/20210422/Session1/C1_P7_P8_1/nvs_push/144.jpg',\n",
       " 'INCAR/20210422/Session1/C1_P7_P8_1/nvs_push/145.jpg',\n",
       " 'INCAR/20210422/Session1/C1_P7_P8_1/nvs_push/146.jpg',\n",
       " 'INCAR/20210422/Session1/C1_P7_P8_1/nvs_push/147.jpg',\n",
       " 'INCAR/20210422/Session1/C1_P7_P8_1/nvs_push/148.jpg',\n",
       " 'INCAR/20210422/Session1/C1_P7_P8_1/nvs_push/149.jpg',\n",
       " 'INCAR/20210422/Session1/C1_P7_P8_1/nvs_push/150.jpg',\n",
       " 'INCAR/20210422/Session1/C1_P7_P8_1/nvs_push/151.jpg',\n",
       " 'INCAR/20210422/Session1/C1_P7_P8_1/nvs_push/152.jpg',\n",
       " 'INCAR/20210422/Session1/C1_P7_P8_1/nvs_push/153.jpg',\n",
       " 'INCAR/20210422/Session1/C1_P7_P8_1/nvs_push/154.jpg',\n",
       " 'INCAR/20210422/Session1/C1_P7_P8_1/nvs_push/155.jpg',\n",
       " 'INCAR/20210422/Session1/C1_P7_P8_1/nvs_push/156.jpg',\n",
       " 'INCAR/20210422/Session1/C1_P7_P8_1/nvs_push/157.jpg',\n",
       " 'INCAR/20210422/Session1/C1_P7_P8_1/nvs_push/158.jpg',\n",
       " 'INCAR/20210422/Session1/C1_P7_P8_1/nvs_push/159.jpg',\n",
       " 'INCAR/20210422/Session1/C1_P7_P8_1/nvs_push/160.jpg',\n",
       " 'INCAR/20210422/Session1/C1_P7_P8_1/nvs_push/161.jpg',\n",
       " 'INCAR/20210422/Session1/C1_P7_P8_1/nvs_push/162.jpg',\n",
       " 'INCAR/20210422/Session1/C1_P7_P8_1/nvs_push/163.jpg',\n",
       " 'INCAR/20210422/Session1/C1_P7_P8_1/nvs_push/164.jpg',\n",
       " 'INCAR/20210422/Session1/C1_P7_P8_1/nvs_push/165.jpg',\n",
       " 'INCAR/20210422/Session1/C1_P7_P8_1/nvs_push/166.jpg',\n",
       " 'INCAR/20210422/Session1/C1_P7_P8_1/nvs_push/167.jpg',\n",
       " 'INCAR/20210422/Session1/C1_P7_P8_1/nvs_push/168.jpg',\n",
       " 'INCAR/20210422/Session1/C1_P7_P8_1/nvs_push/169.jpg',\n",
       " 'INCAR/20210422/Session1/C1_P7_P8_1/nvs_push/170.jpg',\n",
       " 'INCAR/20210422/Session1/C1_P7_P8_1/nvs_push/171.jpg',\n",
       " 'INCAR/20210422/Session1/C1_P7_P8_1/nvs_push/172.jpg',\n",
       " 'INCAR/20210422/Session1/C1_P7_P8_1/nvs_push/173.jpg',\n",
       " 'INCAR/20210422/Session1/C1_P7_P8_1/nvs_push/174.jpg',\n",
       " 'INCAR/20210422/Session1/C1_P7_P8_1/nvs_push/175.jpg',\n",
       " 'INCAR/20210422/Session1/C1_P7_P8_1/nvs_push/176.jpg',\n",
       " 'INCAR/20210422/Session1/C1_P7_P8_1/nvs_push/177.jpg',\n",
       " 'INCAR/20210422/Session1/C1_P7_P8_1/nvs_push/178.jpg',\n",
       " 'INCAR/20210422/Session1/C1_P7_P8_1/nvs_push/179.jpg',\n",
       " 'INCAR/20210422/Session1/C1_P7_P8_1/nvs_push/180.jpg',\n",
       " 'INCAR/20210422/Session1/C1_P7_P8_1/nvs_push/181.jpg',\n",
       " 'INCAR/20210422/Session1/C1_P7_P8_1/nvs_push/182.jpg',\n",
       " 'INCAR/20210422/Session1/C1_P7_P8_1/nvs_push/183.jpg',\n",
       " 'INCAR/20210422/Session1/C1_P7_P8_1/nvs_push/184.jpg',\n",
       " 'INCAR/20210422/Session1/C1_P7_P8_1/nvs_push/185.jpg',\n",
       " 'INCAR/20210422/Session1/C1_P7_P8_1/nvs_push/186.jpg',\n",
       " 'INCAR/20210422/Session1/C1_P7_P8_1/nvs_push/187.jpg',\n",
       " 'INCAR/20210422/Session1/C1_P7_P8_1/nvs_push/188.jpg',\n",
       " 'INCAR/20210422/Session1/C1_P7_P8_1/nvs_push/189.jpg',\n",
       " 'INCAR/20210422/Session1/C1_P7_P8_1/nvs_push/190.jpg',\n",
       " 'INCAR/20210422/Session1/C1_P7_P8_1/nvs_push/191.jpg',\n",
       " 'INCAR/20210422/Session1/C1_P7_P8_1/nvs_push/192.jpg',\n",
       " 'INCAR/20210422/Session1/C1_P7_P8_1/nvs_push/193.jpg',\n",
       " 'INCAR/20210422/Session1/C1_P7_P8_1/nvs_push/194.jpg',\n",
       " 'INCAR/20210422/Session1/C1_P7_P8_1/nvs_push/195.jpg',\n",
       " 'INCAR/20210422/Session1/C1_P7_P8_1/nvs_push/196.jpg',\n",
       " 'INCAR/20210422/Session1/C1_P7_P8_1/nvs_push/197.jpg',\n",
       " 'INCAR/20210422/Session1/C1_P7_P8_1/nvs_push/198.jpg',\n",
       " 'INCAR/20210422/Session1/C1_P7_P8_1/nvs_push/199.jpg',\n",
       " 'INCAR/20210422/Session1/C1_P7_P8_1/nvs_push/200.jpg',\n",
       " 'INCAR/20210422/Session1/C1_P7_P8_1/nvs_push/201.jpg',\n",
       " 'INCAR/20210422/Session1/C1_P7_P8_1/nvs_push/202.jpg',\n",
       " 'INCAR/20210422/Session1/C1_P7_P8_1/nvs_push/203.jpg',\n",
       " 'INCAR/20210422/Session1/C1_P7_P8_1/nvs_push/204.jpg',\n",
       " 'INCAR/20210422/Session1/C1_P7_P8_1/nvs_push/205.jpg',\n",
       " 'INCAR/20210422/Session1/C1_P7_P8_1/nvs_push/206.jpg',\n",
       " 'INCAR/20210422/Session1/C1_P7_P8_1/nvs_push/207.jpg',\n",
       " 'INCAR/20210422/Session1/C1_P7_P8_1/nvs_push/208.jpg',\n",
       " 'INCAR/20210422/Session1/C1_P7_P8_1/nvs_push/209.jpg',\n",
       " 'INCAR/20210422/Session1/C1_P7_P8_1/nvs_push/210.jpg',\n",
       " 'INCAR/20210422/Session1/C1_P7_P8_1/nvs_push/211.jpg',\n",
       " 'INCAR/20210422/Session1/C1_P7_P8_1/nvs_push/212.jpg',\n",
       " 'INCAR/20210422/Session1/C1_P7_P8_1/nvs_push/213.jpg',\n",
       " 'INCAR/20210422/Session1/C1_P7_P8_1/nvs_push/214.jpg',\n",
       " 'INCAR/20210422/Session1/C1_P7_P8_1/nvs_push/215.jpg',\n",
       " 'INCAR/20210422/Session1/C1_P7_P8_1/nvs_push/216.jpg',\n",
       " 'INCAR/20210422/Session1/C1_P7_P8_1/nvs_push/217.jpg',\n",
       " 'INCAR/20210422/Session1/C1_P7_P8_1/nvs_push/218.jpg',\n",
       " 'INCAR/20210422/Session1/C1_P7_P8_1/nvs_push/219.jpg',\n",
       " 'INCAR/20210422/Session1/C1_P7_P8_1/nvs_push/220.jpg',\n",
       " 'INCAR/20210422/Session1/C1_P7_P8_1/nvs_push/221.jpg',\n",
       " 'INCAR/20210422/Session1/C1_P7_P8_1/nvs_push/222.jpg',\n",
       " 'INCAR/20210422/Session1/C1_P7_P8_1/nvs_push/223.jpg',\n",
       " 'INCAR/20210422/Session1/C1_P7_P8_1/nvs_push/224.jpg',\n",
       " 'INCAR/20210422/Session1/C1_P7_P8_1/nvs_push/225.jpg',\n",
       " 'INCAR/20210422/Session1/C1_P7_P8_1/nvs_push/226.jpg',\n",
       " 'INCAR/20210422/Session1/C1_P7_P8_1/nvs_push/227.jpg',\n",
       " 'INCAR/20210422/Session1/C1_P7_P8_1/nvs_push/228.jpg',\n",
       " 'INCAR/20210422/Session1/C1_P7_P8_1/nvs_push/229.jpg',\n",
       " 'INCAR/20210422/Session1/C1_P7_P8_1/nvs_push/230.jpg',\n",
       " 'INCAR/20210422/Session1/C1_P7_P8_1/nvs_push/231.jpg',\n",
       " 'INCAR/20210422/Session1/C1_P7_P8_1/nvs_push/232.jpg',\n",
       " 'INCAR/20210422/Session1/C1_P7_P8_1/nvs_push/233.jpg',\n",
       " 'INCAR/20210422/Session1/C1_P7_P8_1/nvs_push/234.jpg',\n",
       " 'INCAR/20210422/Session1/C1_P7_P8_1/nvs_push/235.jpg',\n",
       " 'INCAR/20210422/Session1/C1_P7_P8_1/nvs_push/236.jpg',\n",
       " 'INCAR/20210422/Session1/C1_P7_P8_1/nvs_push/237.jpg',\n",
       " 'INCAR/20210422/Session1/C1_P7_P8_1/nvs_push/238.jpg',\n",
       " 'INCAR/20210422/Session1/C1_P7_P8_1/nvs_push/239.jpg',\n",
       " 'INCAR/20210422/Session1/C1_P7_P8_1/nvs_push/240.jpg',\n",
       " 'INCAR/20210422/Session1/C1_P7_P8_1/nvs_push/241.jpg',\n",
       " 'INCAR/20210422/Session1/C1_P7_P8_1/nvs_push/242.jpg',\n",
       " 'INCAR/20210422/Session1/C1_P7_P8_1/nvs_push/243.jpg',\n",
       " 'INCAR/20210422/Session1/C1_P7_P8_1/nvs_push/244.jpg',\n",
       " 'INCAR/20210422/Session1/C1_P7_P8_1/nvs_push/245.jpg',\n",
       " 'INCAR/20210422/Session1/C1_P7_P8_1/nvs_push/246.jpg',\n",
       " 'INCAR/20210422/Session1/C1_P7_P8_1/nvs_push/247.jpg',\n",
       " 'INCAR/20210422/Session1/C1_P7_P8_1/nvs_push/248.jpg',\n",
       " 'INCAR/20210422/Session1/C1_P7_P8_1/nvs_push/249.jpg',\n",
       " 'INCAR/20210422/Session1/C1_P7_P8_1/nvs_push/250.jpg',\n",
       " 'INCAR/20210422/Session1/C1_P7_P8_1/nvs_push/251.jpg',\n",
       " 'INCAR/20210422/Session1/C1_P7_P8_1/nvs_push/252.jpg',\n",
       " 'INCAR/20210422/Session1/C1_P7_P8_1/nvs_push/253.jpg',\n",
       " 'INCAR/20210422/Session1/C1_P7_P8_1/nvs_push/254.jpg',\n",
       " 'INCAR/20210422/Session1/C1_P7_P8_1/nvs_push/255.jpg',\n",
       " 'INCAR/20210422/Session1/C1_P7_P8_1/nvs_push/256.jpg',\n",
       " 'INCAR/20210422/Session1/C1_P7_P8_1/nvs_push/257.jpg',\n",
       " 'INCAR/20210422/Session1/C1_P7_P8_1/nvs_push/258.jpg',\n",
       " 'INCAR/20210422/Session1/C1_P7_P8_1/nvs_push/259.jpg',\n",
       " 'INCAR/20210422/Session1/C1_P7_P8_1/nvs_push/260.jpg',\n",
       " 'INCAR/20210422/Session1/C1_P7_P8_1/nvs_push/261.jpg',\n",
       " 'INCAR/20210422/Session1/C1_P7_P8_1/nvs_push/262.jpg',\n",
       " 'INCAR/20210422/Session1/C1_P7_P8_1/nvs_push/263.jpg',\n",
       " 'INCAR/20210422/Session1/C1_P7_P8_1/nvs_push/264.jpg',\n",
       " 'INCAR/20210422/Session1/C1_P7_P8_1/nvs_push/265.jpg',\n",
       " 'INCAR/20210422/Session1/C1_P7_P8_1/nvs_push/266.jpg',\n",
       " 'INCAR/20210422/Session1/C1_P7_P8_1/nvs_push/267.jpg',\n",
       " 'INCAR/20210422/Session1/C1_P7_P8_1/nvs_push/268.jpg',\n",
       " 'INCAR/20210422/Session1/C1_P7_P8_1/nvs_push/269.jpg',\n",
       " 'INCAR/20210422/Session1/C1_P7_P8_1/nvs_push/270.jpg',\n",
       " 'INCAR/20210422/Session1/C1_P7_P8_1/nvs_push/271.jpg',\n",
       " 'INCAR/20210422/Session1/C1_P7_P8_1/nvs_push/272.jpg',\n",
       " 'INCAR/20210422/Session1/C1_P7_P8_1/nvs_push/273.jpg',\n",
       " 'INCAR/20210422/Session1/C1_P7_P8_1/nvs_push/274.jpg',\n",
       " 'INCAR/20210422/Session1/C1_P7_P8_1/nvs_push/275.jpg',\n",
       " 'INCAR/20210422/Session1/C1_P7_P8_1/nvs_push/276.jpg',\n",
       " 'INCAR/20210422/Session1/C1_P7_P8_1/nvs_push/277.jpg',\n",
       " 'INCAR/20210422/Session1/C1_P7_P8_1/nvs_push/278.jpg',\n",
       " 'INCAR/20210422/Session1/C1_P7_P8_1/nvs_push/279.jpg',\n",
       " 'INCAR/20210422/Session1/C1_P7_P8_1/nvs_push/280.jpg',\n",
       " 'INCAR/20210422/Session1/C1_P7_P8_1/nvs_push/281.jpg',\n",
       " 'INCAR/20210422/Session1/C1_P7_P8_1/nvs_push/282.jpg',\n",
       " 'INCAR/20210422/Session1/C1_P7_P8_1/nvs_push/283.jpg',\n",
       " 'INCAR/20210422/Session1/C1_P7_P8_1/nvs_push/284.jpg',\n",
       " 'INCAR/20210422/Session1/C1_P7_P8_1/nvs_push/285.jpg',\n",
       " 'INCAR/20210422/Session1/C1_P7_P8_1/nvs_push/286.jpg',\n",
       " 'INCAR/20210422/Session1/C1_P7_P8_1/nvs_push/287.jpg',\n",
       " 'INCAR/20210422/Session1/C1_P7_P8_1/nvs_push/288.jpg',\n",
       " 'INCAR/20210422/Session1/C1_P7_P8_1/nvs_push/289.jpg',\n",
       " 'INCAR/20210422/Session1/C1_P7_P8_1/nvs_push/290.jpg',\n",
       " 'INCAR/20210422/Session1/C1_P7_P8_1/nvs_push/291.jpg',\n",
       " 'INCAR/20210422/Session1/C1_P7_P8_1/nvs_push/292.jpg',\n",
       " 'INCAR/20210422/Session1/C1_P7_P8_1/nvs_push/293.jpg',\n",
       " 'INCAR/20210422/Session1/C1_P7_P8_1/nvs_push/294.jpg',\n",
       " 'INCAR/20210422/Session1/C1_P7_P8_1/nvs_push/295.jpg',\n",
       " 'INCAR/20210422/Session1/C1_P7_P8_1/nvs_push/296.jpg',\n",
       " 'INCAR/20210422/Session1/C1_P7_P8_1/nvs_push/297.jpg',\n",
       " 'INCAR/20210422/Session1/C1_P7_P8_1/nvs_push/298.jpg',\n",
       " 'INCAR/20210422/Session1/C1_P7_P8_1/nvs_push/299.jpg',\n",
       " 'INCAR/20210422/Session1/C1_P7_P8_1/nvs_push/300.jpg',\n",
       " 'INCAR/20210422/Session1/C1_P7_P8_1/nvs_push/301.jpg',\n",
       " 'INCAR/20210422/Session1/C1_P7_P8_1/nvs_push/302.jpg',\n",
       " 'INCAR/20210422/Session1/C1_P7_P8_1/nvs_push/303.jpg',\n",
       " 'INCAR/20210422/Session1/C1_P7_P8_1/nvs_push/304.jpg',\n",
       " 'INCAR/20210422/Session1/C1_P7_P8_1/nvs_push/305.jpg',\n",
       " 'INCAR/20210422/Session1/C1_P7_P8_1/nvs_push/306.jpg',\n",
       " 'INCAR/20210422/Session1/C1_P7_P8_1/nvs_push/307.jpg',\n",
       " 'INCAR/20210422/Session1/C1_P7_P8_1/nvs_push/308.jpg',\n",
       " 'INCAR/20210422/Session1/C1_P7_P8_1/nvs_push/309.jpg',\n",
       " 'INCAR/20210422/Session1/C1_P7_P8_1/nvs_push/310.jpg',\n",
       " 'INCAR/20210422/Session1/C1_P7_P8_1/nvs_push/311.jpg',\n",
       " 'INCAR/20210422/Session1/C1_P7_P8_1/nvs_push/312.jpg',\n",
       " 'INCAR/20210422/Session1/C1_P7_P8_1/nvs_push/313.jpg',\n",
       " 'INCAR/20210422/Session1/C1_P7_P8_1/nvs_push/314.jpg',\n",
       " 'INCAR/20210422/Session1/C1_P7_P8_1/nvs_push/315.jpg',\n",
       " 'INCAR/20210422/Session1/C1_P7_P8_1/nvs_push/316.jpg',\n",
       " 'INCAR/20210422/Session1/C1_P7_P8_1/nvs_push/317.jpg',\n",
       " 'INCAR/20210422/Session1/C1_P7_P8_1/nvs_push/318.jpg',\n",
       " 'INCAR/20210422/Session1/C1_P7_P8_1/nvs_push/319.jpg',\n",
       " 'INCAR/20210422/Session1/C1_P7_P8_1/nvs_push/320.jpg',\n",
       " 'INCAR/20210422/Session1/C1_P7_P8_1/nvs_push/321.jpg',\n",
       " 'INCAR/20210422/Session1/C1_P7_P8_1/nvs_push/322.jpg',\n",
       " 'INCAR/20210422/Session1/C1_P7_P8_1/nvs_push/323.jpg',\n",
       " 'INCAR/20210422/Session1/C1_P7_P8_1/nvs_push/324.jpg',\n",
       " 'INCAR/20210422/Session1/C1_P7_P8_1/nvs_push/325.jpg',\n",
       " 'INCAR/20210422/Session1/C1_P7_P8_1/nvs_push/326.jpg',\n",
       " 'INCAR/20210422/Session1/C1_P7_P8_1/nvs_push/327.jpg',\n",
       " 'INCAR/20210422/Session1/C1_P7_P8_1/nvs_push/328.jpg',\n",
       " 'INCAR/20210422/Session1/C1_P7_P8_1/nvs_push/329.jpg',\n",
       " 'INCAR/20210422/Session1/C1_P7_P8_1/nvs_push/330.jpg',\n",
       " 'INCAR/20210422/Session1/C1_P7_P8_1/nvs_push/331.jpg',\n",
       " 'INCAR/20210422/Session1/C1_P7_P8_1/nvs_push/332.jpg',\n",
       " 'INCAR/20210422/Session1/C1_P7_P8_1/nvs_push/333.jpg',\n",
       " 'INCAR/20210422/Session1/C1_P7_P8_1/nvs_push/334.jpg',\n",
       " 'INCAR/20210422/Session1/C1_P7_P8_1/nvs_push/335.jpg',\n",
       " 'INCAR/20210422/Session1/C1_P7_P8_1/nvs_push/336.jpg',\n",
       " 'INCAR/20210422/Session1/C1_P7_P8_1/nvs_push/337.jpg',\n",
       " 'INCAR/20210422/Session1/C1_P7_P8_1/nvs_push/338.jpg',\n",
       " 'INCAR/20210422/Session1/C1_P7_P8_1/nvs_push/339.jpg',\n",
       " 'INCAR/20210422/Session1/C1_P7_P8_1/nvs_push/340.jpg',\n",
       " 'INCAR/20210422/Session1/C1_P7_P8_1/nvs_push/341.jpg',\n",
       " 'INCAR/20210422/Session1/C1_P7_P8_1/nvs_push/342.jpg',\n",
       " 'INCAR/20210422/Session1/C1_P7_P8_1/nvs_push/343.jpg',\n",
       " 'INCAR/20210422/Session1/C1_P7_P8_1/nvs_push/344.jpg',\n",
       " 'INCAR/20210422/Session1/C1_P7_P8_1/nvs_push/345.jpg',\n",
       " 'INCAR/20210422/Session1/C1_P7_P8_1/nvs_push/346.jpg',\n",
       " 'INCAR/20210422/Session1/C1_P7_P8_1/nvs_push/347.jpg',\n",
       " 'INCAR/20210422/Session1/C1_P7_P8_1/nvs_push/348.jpg',\n",
       " 'INCAR/20210422/Session1/C1_P7_P8_1/nvs_push/349.jpg',\n",
       " 'INCAR/20210422/Session1/C1_P7_P8_1/nvs_push/350.jpg',\n",
       " 'INCAR/20210422/Session1/C1_P7_P8_1/nvs_push/351.jpg',\n",
       " 'INCAR/20210422/Session1/C1_P7_P8_1/nvs_push/352.jpg',\n",
       " 'INCAR/20210422/Session1/C1_P7_P8_1/nvs_push/353.jpg',\n",
       " 'INCAR/20210422/Session1/C1_P7_P8_1/nvs_push/354.jpg',\n",
       " 'INCAR/20210422/Session1/C1_P7_P8_1/nvs_push/355.jpg',\n",
       " 'INCAR/20210422/Session1/C1_P7_P8_1/nvs_push/356.jpg',\n",
       " 'INCAR/20210422/Session1/C1_P7_P8_1/nvs_push/357.jpg',\n",
       " 'INCAR/20210422/Session1/C1_P7_P8_1/nvs_push/358.jpg',\n",
       " 'INCAR/20210422/Session1/C1_P7_P8_1/nvs_push/359.jpg',\n",
       " 'INCAR/20210422/Session1/C1_P7_P8_1/nvs_push/360.jpg',\n",
       " 'INCAR/20210422/Session1/C1_P7_P8_1/nvs_push/361.jpg',\n",
       " 'INCAR/20210422/Session1/C1_P7_P8_1/nvs_push/362.jpg',\n",
       " 'INCAR/20210422/Session1/C1_P7_P8_1/nvs_push/363.jpg',\n",
       " 'INCAR/20210422/Session1/C1_P7_P8_1/nvs_push/364.jpg',\n",
       " 'INCAR/20210422/Session1/C1_P7_P8_1/nvs_push/365.jpg',\n",
       " 'INCAR/20210422/Session1/C1_P7_P8_1/nvs_push/366.jpg',\n",
       " 'INCAR/20210422/Session1/C1_P7_P8_1/nvs_push/367.jpg',\n",
       " 'INCAR/20210422/Session1/C1_P7_P8_1/nvs_push/368.jpg',\n",
       " 'INCAR/20210422/Session1/C1_P7_P8_1/nvs_push/369.jpg',\n",
       " 'INCAR/20210422/Session1/C1_P7_P8_1/nvs_push/370.jpg',\n",
       " 'INCAR/20210422/Session1/C1_P7_P8_1/nvs_push/371.jpg',\n",
       " 'INCAR/20210422/Session1/C1_P7_P8_1/nvs_push/372.jpg',\n",
       " 'INCAR/20210422/Session1/C1_P7_P8_1/nvs_push/373.jpg',\n",
       " 'INCAR/20210422/Session1/C1_P7_P8_1/nvs_push/374.jpg',\n",
       " 'INCAR/20210422/Session1/C1_P7_P8_1/nvs_push/375.jpg',\n",
       " 'INCAR/20210422/Session1/C1_P7_P8_1/nvs_push/376.jpg',\n",
       " 'INCAR/20210422/Session1/C1_P7_P8_1/nvs_push/377.jpg',\n",
       " 'INCAR/20210422/Session1/C1_P7_P8_1/nvs_push/378.jpg',\n",
       " 'INCAR/20210422/Session1/C1_P7_P8_1/nvs_push/379.jpg',\n",
       " 'INCAR/20210422/Session1/C1_P7_P8_1/nvs_push/380.jpg',\n",
       " 'INCAR/20210422/Session1/C1_P7_P8_1/nvs_push/381.jpg',\n",
       " 'INCAR/20210422/Session1/C1_P7_P8_1/nvs_push/382.jpg',\n",
       " 'INCAR/20210422/Session1/C1_P7_P8_1/nvs_push/383.jpg',\n",
       " 'INCAR/20210422/Session1/C1_P7_P8_1/nvs_push/384.jpg',\n",
       " 'INCAR/20210422/Session1/C1_P7_P8_1/nvs_push/385.jpg',\n",
       " 'INCAR/20210422/Session1/C1_P7_P8_1/nvs_push/386.jpg',\n",
       " 'INCAR/20210422/Session1/C1_P7_P8_1/nvs_push/387.jpg',\n",
       " 'INCAR/20210422/Session1/C1_P7_P8_1/nvs_push/388.jpg',\n",
       " 'INCAR/20210422/Session1/C1_P7_P8_1/nvs_push/389.jpg',\n",
       " 'INCAR/20210422/Session1/C1_P7_P8_1/nvs_push/390.jpg',\n",
       " 'INCAR/20210422/Session1/C1_P7_P8_1/nvs_push/391.jpg',\n",
       " 'INCAR/20210422/Session1/C1_P7_P8_1/nvs_push/392.jpg',\n",
       " 'INCAR/20210422/Session1/C1_P7_P8_1/nvs_push/393.jpg',\n",
       " 'INCAR/20210422/Session1/C1_P7_P8_1/nvs_push/394.jpg',\n",
       " 'INCAR/20210422/Session1/C1_P7_P8_1/nvs_push/395.jpg',\n",
       " 'INCAR/20210422/Session1/C1_P7_P8_1/nvs_push/396.jpg',\n",
       " 'INCAR/20210422/Session1/C1_P7_P8_1/nvs_push/397.jpg',\n",
       " 'INCAR/20210422/Session1/C1_P7_P8_1/nvs_push/398.jpg',\n",
       " 'INCAR/20210422/Session1/C1_P7_P8_1/nvs_push/399.jpg',\n",
       " 'INCAR/20210422/Session1/C1_P7_P8_1/nvs_push/400.jpg',\n",
       " 'INCAR/20210422/Session1/C1_P7_P8_1/nvs_push/401.jpg',\n",
       " 'INCAR/20210422/Session1/C1_P7_P8_1/nvs_push/402.jpg',\n",
       " 'INCAR/20210422/Session1/C1_P7_P8_1/nvs_push/403.jpg',\n",
       " 'INCAR/20210422/Session1/C1_P7_P8_1/nvs_push/404.jpg',\n",
       " 'INCAR/20210422/Session1/C1_P7_P8_1/nvs_push/405.jpg',\n",
       " 'INCAR/20210422/Session1/C1_P7_P8_1/nvs_push/406.jpg',\n",
       " 'INCAR/20210422/Session1/C1_P7_P8_1/nvs_push/407.jpg',\n",
       " 'INCAR/20210422/Session1/C1_P7_P8_1/nvs_push/408.jpg',\n",
       " 'INCAR/20210422/Session1/C1_P7_P8_1/nvs_push/409.jpg',\n",
       " 'INCAR/20210422/Session1/C1_P7_P8_1/nvs_push/410.jpg',\n",
       " 'INCAR/20210422/Session1/C1_P7_P8_1/nvs_push/411.jpg',\n",
       " 'INCAR/20210422/Session1/C1_P7_P8_1/nvs_push/412.jpg',\n",
       " 'INCAR/20210422/Session1/C1_P7_P8_1/nvs_push/413.jpg',\n",
       " 'INCAR/20210422/Session1/C1_P7_P8_1/nvs_push/414.jpg',\n",
       " 'INCAR/20210422/Session1/C1_P7_P8_1/nvs_push/415.jpg',\n",
       " 'INCAR/20210422/Session1/C1_P7_P8_1/nvs_push/416.jpg',\n",
       " 'INCAR/20210422/Session1/C1_P7_P8_1/nvs_push/417.jpg',\n",
       " 'INCAR/20210422/Session1/C1_P7_P8_1/nvs_push/418.jpg',\n",
       " 'INCAR/20210422/Session1/C1_P7_P8_1/nvs_push/419.jpg',\n",
       " 'INCAR/20210422/Session1/C1_P7_P8_1/nvs_push/420.jpg',\n",
       " 'INCAR/20210422/Session1/C1_P7_P8_1/nvs_push/421.jpg',\n",
       " 'INCAR/20210422/Session1/C1_P7_P8_1/nvs_push/422.jpg',\n",
       " 'INCAR/20210422/Session1/C1_P7_P8_1/nvs_push/423.jpg',\n",
       " 'INCAR/20210422/Session1/C1_P7_P8_1/nvs_push/424.jpg',\n",
       " 'INCAR/20210422/Session1/C1_P7_P8_1/nvs_push/425.jpg',\n",
       " 'INCAR/20210422/Session1/C1_P7_P8_1/nvs_push/426.jpg',\n",
       " 'INCAR/20210422/Session1/C1_P7_P8_1/nvs_push/427.jpg',\n",
       " 'INCAR/20210422/Session1/C1_P7_P8_1/nvs_push/428.jpg',\n",
       " 'INCAR/20210422/Session1/C1_P7_P8_1/nvs_push/429.jpg',\n",
       " 'INCAR/20210422/Session1/C1_P7_P8_1/nvs_push/430.jpg',\n",
       " 'INCAR/20210422/Session1/C1_P7_P8_1/nvs_push/431.jpg',\n",
       " 'INCAR/20210422/Session1/C1_P7_P8_1/nvs_push/432.jpg',\n",
       " 'INCAR/20210422/Session1/C1_P7_P8_1/nvs_push/433.jpg',\n",
       " 'INCAR/20210422/Session1/C1_P7_P8_1/nvs_push/434.jpg',\n",
       " 'INCAR/20210422/Session1/C1_P7_P8_1/nvs_push/435.jpg',\n",
       " 'INCAR/20210422/Session1/C1_P7_P8_1/nvs_push/436.jpg',\n",
       " 'INCAR/20210422/Session1/C1_P7_P8_1/nvs_push/437.jpg',\n",
       " 'INCAR/20210422/Session1/C1_P7_P8_1/nvs_push/438.jpg',\n",
       " 'INCAR/20210422/Session1/C1_P7_P8_1/nvs_push/439.jpg',\n",
       " 'INCAR/20210422/Session1/C1_P7_P8_1/nvs_push/440.jpg',\n",
       " 'INCAR/20210422/Session1/C1_P7_P8_1/nvs_push/441.jpg',\n",
       " 'INCAR/20210422/Session1/C1_P7_P8_1/nvs_push/442.jpg',\n",
       " 'INCAR/20210422/Session1/C1_P7_P8_1/nvs_push/443.jpg',\n",
       " 'INCAR/20210422/Session1/C1_P7_P8_1/nvs_push/444.jpg',\n",
       " 'INCAR/20210422/Session1/C1_P7_P8_1/nvs_push/445.jpg',\n",
       " 'INCAR/20210422/Session1/C1_P7_P8_1/nvs_push/446.jpg',\n",
       " 'INCAR/20210422/Session1/C1_P7_P8_1/nvs_push/447.jpg',\n",
       " 'INCAR/20210422/Session1/C1_P7_P8_1/nvs_push/448.jpg',\n",
       " 'INCAR/20210422/Session1/C1_P7_P8_1/nvs_push/449.jpg',\n",
       " 'INCAR/20210422/Session1/C1_P7_P8_1/nvs_push/450.jpg',\n",
       " 'INCAR/20210422/Session1/C1_P7_P8_1/nvs_push/451.jpg',\n",
       " 'INCAR/20210422/Session1/C1_P7_P8_1/nvs_push/452.jpg',\n",
       " 'INCAR/20210422/Session1/C1_P7_P8_1/nvs_push/453.jpg',\n",
       " 'INCAR/20210422/Session1/C1_P7_P8_1/nvs_push/454.jpg',\n",
       " 'INCAR/20210422/Session1/C1_P7_P8_1/nvs_push/455.jpg',\n",
       " 'INCAR/20210422/Session1/C1_P7_P8_1/nvs_push/456.jpg',\n",
       " 'INCAR/20210422/Session1/C1_P7_P8_1/nvs_push/457.jpg',\n",
       " 'INCAR/20210422/Session1/C1_P7_P8_1/nvs_push/458.jpg',\n",
       " 'INCAR/20210422/Session1/C1_P7_P8_1/nvs_push/459.jpg',\n",
       " 'INCAR/20210422/Session1/C1_P7_P8_1/nvs_push/460.jpg',\n",
       " 'INCAR/20210422/Session1/C1_P7_P8_1/nvs_push/461.jpg',\n",
       " 'INCAR/20210422/Session1/C1_P7_P8_1/nvs_push/462.jpg',\n",
       " 'INCAR/20210422/Session1/C1_P7_P8_1/nvs_push/463.jpg',\n",
       " 'INCAR/20210422/Session1/C1_P7_P8_1/nvs_push/464.jpg',\n",
       " 'INCAR/20210422/Session1/C1_P7_P8_1/nvs_push/465.jpg',\n",
       " 'INCAR/20210422/Session1/C1_P7_P8_1/nvs_push/466.jpg',\n",
       " 'INCAR/20210422/Session1/C1_P7_P8_1/nvs_push/467.jpg',\n",
       " 'INCAR/20210422/Session1/C1_P7_P8_1/nvs_push/468.jpg',\n",
       " 'INCAR/20210422/Session1/C1_P7_P8_1/nvs_push/469.jpg',\n",
       " 'INCAR/20210422/Session1/C1_P7_P8_1/nvs_push/470.jpg',\n",
       " 'INCAR/20210422/Session1/C1_P7_P8_1/nvs_push/471.jpg',\n",
       " 'INCAR/20210422/Session1/C1_P7_P8_1/nvs_push/472.jpg',\n",
       " 'INCAR/20210422/Session1/C1_P7_P8_1/nvs_push/473.jpg',\n",
       " 'INCAR/20210422/Session1/C1_P7_P8_1/nvs_push/474.jpg',\n",
       " 'INCAR/20210422/Session1/C1_P7_P8_1/nvs_push/475.jpg',\n",
       " 'INCAR/20210422/Session1/C1_P7_P8_1/nvs_push/476.jpg',\n",
       " 'INCAR/20210422/Session1/C1_P7_P8_1/nvs_push/477.jpg',\n",
       " 'INCAR/20210422/Session1/C1_P7_P8_1/nvs_push/478.jpg',\n",
       " 'INCAR/20210422/Session1/C1_P7_P8_1/nvs_push/479.jpg',\n",
       " 'INCAR/20210422/Session1/C1_P7_P8_1/nvs_push/480.jpg',\n",
       " 'INCAR/20210422/Session1/C1_P7_P8_1/nvs_push/481.jpg',\n",
       " 'INCAR/20210422/Session1/C1_P7_P8_1/nvs_push/482.jpg',\n",
       " 'INCAR/20210422/Session1/C1_P7_P8_1/nvs_push/483.jpg',\n",
       " 'INCAR/20210422/Session1/C1_P7_P8_1/nvs_push/484.jpg',\n",
       " 'INCAR/20210422/Session1/C1_P7_P8_1/nvs_push/485.jpg',\n",
       " 'INCAR/20210422/Session1/C1_P7_P8_1/nvs_push/486.jpg',\n",
       " 'INCAR/20210422/Session1/C1_P7_P8_1/nvs_push/487.jpg',\n",
       " 'INCAR/20210422/Session1/C1_P7_P8_1/nvs_push/488.jpg',\n",
       " 'INCAR/20210422/Session1/C1_P7_P8_1/nvs_push/489.jpg',\n",
       " 'INCAR/20210422/Session1/C1_P7_P8_1/nvs_push/490.jpg',\n",
       " 'INCAR/20210422/Session1/C1_P7_P8_1/nvs_push/491.jpg',\n",
       " 'INCAR/20210422/Session1/C1_P7_P8_1/nvs_push/492.jpg',\n",
       " 'INCAR/20210422/Session1/C1_P7_P8_1/nvs_push/493.jpg',\n",
       " 'INCAR/20210422/Session1/C1_P7_P8_1/nvs_push/494.jpg',\n",
       " 'INCAR/20210422/Session1/C1_P7_P8_1/nvs_push/495.jpg',\n",
       " 'INCAR/20210422/Session1/C1_P7_P8_1/nvs_push/496.jpg',\n",
       " 'INCAR/20210422/Session1/C1_P7_P8_1/nvs_push/497.jpg',\n",
       " 'INCAR/20210422/Session1/C1_P7_P8_1/nvs_push/498.jpg',\n",
       " 'INCAR/20210422/Session1/C1_P7_P8_1/nvs_push/499.jpg',\n",
       " 'INCAR/20210422/Session1/C1_P7_P8_1/nvs_push/500.jpg',\n",
       " 'INCAR/20210422/Session1/C1_P7_P8_1/nvs_push/501.jpg',\n",
       " 'INCAR/20210422/Session1/C1_P7_P8_1/nvs_push/502.jpg',\n",
       " 'INCAR/20210422/Session1/C1_P7_P8_1/nvs_push/503.jpg',\n",
       " 'INCAR/20210422/Session1/C1_P7_P8_1/nvs_push/504.jpg',\n",
       " 'INCAR/20210422/Session1/C1_P7_P8_1/nvs_push/505.jpg',\n",
       " 'INCAR/20210422/Session1/C1_P7_P8_1/nvs_push/506.jpg',\n",
       " 'INCAR/20210422/Session1/C1_P7_P8_1/nvs_push/507.jpg',\n",
       " 'INCAR/20210422/Session1/C1_P7_P8_1/nvs_push/508.jpg',\n",
       " 'INCAR/20210422/Session1/C1_P7_P8_1/nvs_push/509.jpg',\n",
       " 'INCAR/20210422/Session1/C1_P7_P8_1/nvs_push/510.jpg',\n",
       " 'INCAR/20210422/Session1/C1_P7_P8_1/nvs_push/511.jpg',\n",
       " 'INCAR/20210422/Session1/C1_P7_P8_1/nvs_push/512.jpg',\n",
       " 'INCAR/20210422/Session1/C1_P7_P8_1/nvs_push/513.jpg',\n",
       " 'INCAR/20210422/Session1/C1_P7_P8_1/nvs_push/514.jpg',\n",
       " 'INCAR/20210422/Session1/C1_P7_P8_1/nvs_push/515.jpg',\n",
       " 'INCAR/20210422/Session1/C1_P7_P8_1/nvs_push/516.jpg',\n",
       " 'INCAR/20210422/Session1/C1_P7_P8_1/nvs_push/517.jpg',\n",
       " 'INCAR/20210422/Session1/C1_P7_P8_1/nvs_push/518.jpg',\n",
       " 'INCAR/20210422/Session1/C1_P7_P8_1/nvs_push/519.jpg',\n",
       " 'INCAR/20210422/Session1/C1_P7_P8_1/nvs_push/520.jpg',\n",
       " 'INCAR/20210422/Session1/C1_P7_P8_1/nvs_push/521.jpg',\n",
       " 'INCAR/20210422/Session1/C1_P7_P8_1/nvs_push/522.jpg',\n",
       " 'INCAR/20210422/Session1/C1_P7_P8_1/nvs_push/523.jpg',\n",
       " 'INCAR/20210422/Session1/C1_P7_P8_1/nvs_push/524.jpg',\n",
       " 'INCAR/20210422/Session1/C1_P7_P8_1/nvs_push/525.jpg',\n",
       " 'INCAR/20210422/Session1/C1_P7_P8_1/nvs_push/526.jpg',\n",
       " 'INCAR/20210422/Session1/C1_P7_P8_1/nvs_push/527.jpg',\n",
       " 'INCAR/20210422/Session1/C1_P7_P8_1/nvs_push/528.jpg',\n",
       " 'INCAR/20210422/Session1/C1_P7_P8_1/nvs_push/529.jpg',\n",
       " 'INCAR/20210422/Session1/C1_P7_P8_1/nvs_push/530.jpg',\n",
       " 'INCAR/20210422/Session1/C1_P7_P8_1/nvs_push/531.jpg',\n",
       " 'INCAR/20210422/Session1/C1_P7_P8_1/nvs_push/532.jpg',\n",
       " 'INCAR/20210422/Session1/C1_P7_P8_1/nvs_push/533.jpg',\n",
       " 'INCAR/20210422/Session1/C1_P7_P8_1/nvs_push/534.jpg',\n",
       " 'INCAR/20210422/Session1/C1_P7_P8_1/nvs_push/535.jpg',\n",
       " 'INCAR/20210422/Session1/C1_P7_P8_1/nvs_push/536.jpg',\n",
       " 'INCAR/20210422/Session1/C1_P7_P8_1/nvs_push/537.jpg',\n",
       " 'INCAR/20210422/Session1/C1_P7_P8_1/nvs_push/538.jpg',\n",
       " 'INCAR/20210422/Session1/C1_P7_P8_1/nvs_push/539.jpg',\n",
       " 'INCAR/20210422/Session1/C1_P7_P8_1/nvs_push/540.jpg',\n",
       " 'INCAR/20210422/Session1/C1_P7_P8_1/nvs_push/541.jpg',\n",
       " 'INCAR/20210422/Session1/C1_P7_P8_1/nvs_push/542.jpg',\n",
       " 'INCAR/20210422/Session1/C1_P7_P8_1/nvs_push/543.jpg',\n",
       " 'INCAR/20210422/Session1/C1_P7_P8_1/nvs_push/544.jpg',\n",
       " 'INCAR/20210422/Session1/C1_P7_P8_1/nvs_push/545.jpg',\n",
       " 'INCAR/20210422/Session1/C1_P7_P8_1/nvs_push/546.jpg',\n",
       " 'INCAR/20210422/Session1/C1_P7_P8_1/nvs_push/547.jpg',\n",
       " 'INCAR/20210422/Session1/C1_P7_P8_1/nvs_push/548.jpg',\n",
       " 'INCAR/20210422/Session1/C1_P7_P8_1/nvs_push/549.jpg',\n",
       " 'INCAR/20210422/Session1/C1_P7_P8_1/nvs_push/550.jpg',\n",
       " 'INCAR/20210422/Session1/C1_P7_P8_1/nvs_push/551.jpg',\n",
       " 'INCAR/20210422/Session1/C1_P7_P8_1/nvs_push/552.jpg',\n",
       " 'INCAR/20210422/Session1/C1_P7_P8_1/nvs_push/553.jpg',\n",
       " 'INCAR/20210422/Session1/C1_P7_P8_1/nvs_push/554.jpg',\n",
       " 'INCAR/20210422/Session1/C1_P7_P8_1/nvs_push/555.jpg',\n",
       " 'INCAR/20210422/Session1/C1_P7_P8_1/nvs_push/556.jpg',\n",
       " 'INCAR/20210422/Session1/C1_P7_P8_1/nvs_push/557.jpg',\n",
       " 'INCAR/20210422/Session1/C1_P7_P8_1/nvs_push/558.jpg',\n",
       " 'INCAR/20210422/Session1/C1_P7_P8_1/nvs_push/559.jpg',\n",
       " 'INCAR/20210422/Session1/C1_P7_P8_1/nvs_push/560.jpg',\n",
       " 'INCAR/20210422/Session1/C1_P7_P8_1/nvs_push/561.jpg',\n",
       " 'INCAR/20210422/Session1/C1_P7_P8_1/nvs_push/562.jpg',\n",
       " 'INCAR/20210422/Session1/C1_P7_P8_1/nvs_push/563.jpg',\n",
       " 'INCAR/20210422/Session1/C1_P7_P8_1/nvs_push/564.jpg',\n",
       " 'INCAR/20210422/Session1/C1_P7_P8_1/nvs_push/565.jpg',\n",
       " 'INCAR/20210422/Session1/C1_P7_P8_1/nvs_push/566.jpg',\n",
       " 'INCAR/20210422/Session1/C1_P7_P8_1/nvs_push/567.jpg',\n",
       " 'INCAR/20210422/Session1/C1_P7_P8_1/nvs_push/568.jpg',\n",
       " 'INCAR/20210422/Session1/C1_P7_P8_1/nvs_push/569.jpg',\n",
       " 'INCAR/20210422/Session1/C1_P7_P8_1/nvs_push/570.jpg',\n",
       " 'INCAR/20210422/Session1/C1_P7_P8_1/nvs_push/571.jpg',\n",
       " 'INCAR/20210422/Session1/C1_P7_P8_1/nvs_push/572.jpg',\n",
       " 'INCAR/20210422/Session1/C1_P7_P8_1/nvs_push/573.jpg',\n",
       " 'INCAR/20210422/Session1/C1_P7_P8_1/nvs_push/574.jpg',\n",
       " 'INCAR/20210422/Session1/C1_P7_P8_1/nvs_push/575.jpg']"
      ]
     },
     "execution_count": 120,
     "metadata": {},
     "output_type": "execute_result"
    }
   ],
   "source": [
    "gt['gTruth2']['DataSource']"
   ]
  },
  {
   "cell_type": "code",
   "execution_count": 121,
   "metadata": {},
   "outputs": [
    {
     "name": "stderr",
     "output_type": "stream",
     "text": [
      "100%|██████████| 575/575 [00:00<00:00, 501085.56it/s]"
     ]
    },
    {
     "name": "stdout",
     "output_type": "stream",
     "text": [
      "\n",
      ">> images:\n",
      " [{'file_name': 'INCAR/20210422/Session1/C1_P7_P8_1/nvs_push/574.jpg', 'id': 574, 'video_id': 1, 'caption': 'Session1', 'width': 2048, 'height': 1536, 'frame_index': 574, 'date_captured': 'INCAR', 'dataset': 1}, {'file_name': 'INCAR/20210422/Session1/C1_P7_P8_1/nvs_push/575.jpg', 'id': 575, 'video_id': 1, 'caption': 'Session1', 'width': 2048, 'height': 1536, 'frame_index': 575, 'date_captured': 'INCAR', 'dataset': 1}]\n"
     ]
    },
    {
     "name": "stderr",
     "output_type": "stream",
     "text": [
      "\n"
     ]
    }
   ],
   "source": [
    "def import_images(molajson, gt, res, start_id=0, video_id=1, sensor=\"rgb\"):\n",
    "    dataset=molajson[\"datasets\"][0]['id']\n",
    "    # images filepath and id\n",
    "    img_l=[]\n",
    "    img_l_id=[]\n",
    "    img=gt['gTruth2']['DataSource']\n",
    "    for i,im in enumerate(tqdm(img)):\n",
    "        img_l.append(im)\n",
    "        img_l_id.append(start_id+i+1) # id start from 1\n",
    "        frame_index=img_l[i].split('/')[-1]\n",
    "        frame_index=int(frame_index.split('.')[0])\n",
    "        molajson['images'].append({'file_name':img_l[i],\n",
    "                                   'id':img_l_id[i],\n",
    "                                   'video_id':video_id,\n",
    "                                   'caption':img_l[i].split('/')[-4], # scenario\n",
    "                                   'width': res[sensor][0],\n",
    "                                   'height': res[sensor][1],\n",
    "                                   \"frame_index\": frame_index,\n",
    "                                   \"date_captured\": img_l[i].split('/')[-6],\n",
    "                                   'dataset':dataset})\n",
    "    print(\"\\n>> images:\\n\", molajson['images'][-2:])\n",
    "    return molajson, img_l, img_l_id\n",
    "molajson, img_l, img_l_id=import_images(molajson, gt, res, video_id=video_l_id[-1])"
   ]
  },
  {
   "cell_type": "markdown",
   "metadata": {},
   "source": [
    "#### CREATE ANNOTATIONS"
   ]
  },
  {
   "cell_type": "code",
   "execution_count": 122,
   "metadata": {},
   "outputs": [
    {
     "data": {
      "text/plain": [
       "{'id': 1001,\n",
       " 'category_id': 1,\n",
       " 'image_id': 1001,\n",
       " 'bbox': [0, 0, 2048, 1536],\n",
       " 'area': 3145728,\n",
       " 'iscrowd': 0,\n",
       " 'dataset': 1}"
      ]
     },
     "metadata": {},
     "output_type": "display_data"
    }
   ],
   "source": [
    "#EXAMPLE\n",
    "display(molaformatjson[\"annotations\"][1000])"
   ]
  },
  {
   "cell_type": "code",
   "execution_count": 123,
   "metadata": {},
   "outputs": [
    {
     "data": {
      "text/plain": [
       "{'pushing': False}"
      ]
     },
     "execution_count": 123,
     "metadata": {},
     "output_type": "execute_result"
    }
   ],
   "source": [
    "gt['gTruth2']['LabelData'][0]"
   ]
  },
  {
   "cell_type": "code",
   "execution_count": 124,
   "metadata": {},
   "outputs": [
    {
     "name": "stderr",
     "output_type": "stream",
     "text": [
      "100%|██████████| 575/575 [00:00<00:00, 481478.30it/s]"
     ]
    },
    {
     "name": "stdout",
     "output_type": "stream",
     "text": [
      "\n",
      ">> annotations:\n",
      " [{'id': 574, 'category_id': 2, 'image_id': 574, 'bbox': [0, 0, 2048, 1536], 'area': 3145728, 'iscrowd': 0, 'dataset': 1}, {'id': 575, 'category_id': 2, 'image_id': 575, 'bbox': [0, 0, 2048, 1536], 'area': 3145728, 'iscrowd': 0, 'dataset': 1}]\n"
     ]
    },
    {
     "name": "stderr",
     "output_type": "stream",
     "text": [
      "\n"
     ]
    }
   ],
   "source": [
    "def create_annotations(molajson, gt, res, cat_l, cat_l_id, cat_l_dset, img_l_id, start_id=0, sensor=\"rgb\"):\n",
    "    dataset=molajson[\"datasets\"][0]['id']\n",
    "    # annotations category_id, image_id, bbox, and dataset\n",
    "    ann_id=[]\n",
    "    ann_catid=[]\n",
    "    ann_imgid=[]\n",
    "    ann_bbox=[]\n",
    "    ann_dset=[]\n",
    "    labels=gt['gTruth2']['LabelData']\n",
    "    for i,l in enumerate(tqdm(labels)):\n",
    "        annid=start_id+i+1\n",
    "        current_label=list(l.keys())[0]\n",
    "        if current_label=='pushing' and not l[\"pushing\"]: current_label=\"nonpushing\" #specific rule of gt labelling\n",
    "        catidx=cat_l.index(current_label)\n",
    "        catid=cat_l_id[catidx]\n",
    "        imgidx=i #frame\n",
    "        imgid=img_l_id[imgidx]\n",
    "        bbox=[0, 0, res[sensor][0], res[sensor][1]] # [x,y,width,height], #default RGB\n",
    "        area=res[sensor][0]*res[sensor][1] #default RGB\n",
    "        ann_id.append(annid)\n",
    "        ann_catid.append(catid)\n",
    "        ann_imgid.append(imgid)\n",
    "        ann_bbox.append(bbox)\n",
    "        ann_dset.append(dataset)\n",
    "        molajson['annotations'].append({'id':annid,\n",
    "                                        'category_id':catid,\n",
    "                                        'image_id':imgid,\n",
    "                                        'bbox': bbox,\n",
    "                                        'area': area,\n",
    "                                        'iscrowd': 0,\n",
    "                                        'dataset':dataset})\n",
    "    print(\"\\n>> annotations:\\n\", molajson['annotations'][-2:])\n",
    "    return molajson, ann_id, ann_catid, ann_imgid, ann_bbox, ann_dset\n",
    "molajson, ann_id, ann_catid, ann_imgid, ann_bbox, ann_dset=create_annotations(molajson, gt,res, cat_l, cat_l_id, cat_l_dset, img_l_id)"
   ]
  },
  {
   "cell_type": "code",
   "execution_count": 125,
   "metadata": {},
   "outputs": [
    {
     "name": "stdout",
     "output_type": "stream",
     "text": [
      "\n",
      ">> annotations:\n",
      " [{'id': 571, 'category_id': 2, 'image_id': 571, 'bbox': [0, 0, 2048, 1536], 'area': 3145728, 'iscrowd': 0, 'dataset': 1}, {'id': 572, 'category_id': 2, 'image_id': 572, 'bbox': [0, 0, 2048, 1536], 'area': 3145728, 'iscrowd': 0, 'dataset': 1}, {'id': 573, 'category_id': 2, 'image_id': 573, 'bbox': [0, 0, 2048, 1536], 'area': 3145728, 'iscrowd': 0, 'dataset': 1}, {'id': 574, 'category_id': 2, 'image_id': 574, 'bbox': [0, 0, 2048, 1536], 'area': 3145728, 'iscrowd': 0, 'dataset': 1}, {'id': 575, 'category_id': 2, 'image_id': 575, 'bbox': [0, 0, 2048, 1536], 'area': 3145728, 'iscrowd': 0, 'dataset': 1}]\n"
     ]
    }
   ],
   "source": [
    "print(\"\\n>> annotations:\\n\", molajson['annotations'][-5:])"
   ]
  },
  {
   "cell_type": "code",
   "execution_count": 126,
   "metadata": {},
   "outputs": [
    {
     "name": "stdout",
     "output_type": "stream",
     "text": [
      "\n",
      ">> video_annotations:\n",
      " [{'id': 2, 'category_id': 1, 'video_id': 1, 'frame_start': 364, 'frame_end': 514, 'label_frames': 151, 'dataset': 1}, {'id': 3, 'category_id': 2, 'video_id': 1, 'frame_start': 515, 'frame_end': 575, 'label_frames': 61, 'dataset': 1}]\n"
     ]
    }
   ],
   "source": [
    "def create_video_annotations(molajson, gt, res, cat_l, cat_l_id, cat_l_dset, video_l_id, start_id=0, sensor=\"rgb\"):\n",
    "    dataset=molajson[\"datasets\"][0]['id']\n",
    "    # annotations category_id, image_id, bbox, and dataset\n",
    "    ann_id=[]\n",
    "    ann_catid=[]\n",
    "    ann_videoid=[]\n",
    "    ann_dset=[]\n",
    "    labels=gt['gTruth2']['LabelData']\n",
    "    #extract frames and correspondent labels\n",
    "    labels_l=[]\n",
    "    frames_l=[]\n",
    "    previous_label=''\n",
    "    frames_per_label=[]\n",
    "    for i,l in enumerate(labels): #UNSPECIFIC LABEL EXTRACTOR\n",
    "        current_label=list(l.keys())[0]\n",
    "        if current_label=='pushing' and not l[\"pushing\"]: current_label=\"nonpushing\" #specific rule of gt labelling\n",
    "        if previous_label != current_label or i+1>=len(labels):\n",
    "            if i+1>=len(labels): frames_per_label.append(i+1)\n",
    "            if frames_per_label: frames_l.append(frames_per_label)\n",
    "            if previous_label !='': labels_l.append(previous_label)\n",
    "            previous_label=current_label\n",
    "            frames_per_label=[]\n",
    "        frames_per_label.append(i+1)\n",
    "    #create video annotations\n",
    "    for i,c in enumerate(labels_l):\n",
    "        annid=start_id+i+1\n",
    "        catidx=cat_l.index(c)\n",
    "        label_frames=frames_l[i]\n",
    "        if not label_frames: continue #no frames\n",
    "        catid=cat_l_id[catidx] \n",
    "        videoidx=0 #only one video per scenario\n",
    "        videoid=video_l_id[videoidx]\n",
    "        ann_id.append(annid)\n",
    "        ann_catid.append(catid)\n",
    "        ann_videoid.append(videoid)\n",
    "        ann_dset.append(dataset)\n",
    "        molajson['video_annotations'].append({'id':annid,\n",
    "                                        'category_id':catid,\n",
    "                                        'video_id':videoid,\n",
    "                                        'frame_start': int(label_frames[0]), #in frames, then it can be converted using the fps\n",
    "                                        'frame_end': int(label_frames[-1]), #in frames\n",
    "                                        \"label_frames\": len(label_frames),\n",
    "                                        'dataset':dataset})\n",
    "    print(\"\\n>> video_annotations:\\n\", molajson['video_annotations'][-2:])\n",
    "    \"\"\"  \n",
    "    frames_pushing=[i+1 for i,l in enumerate(labels) if l[\"pushing\"]]\n",
    "    frames_nonpushing=[i+1 for i,l in enumerate(labels) if not l[\"pushing\"]]\n",
    "    for i,c in enumerate(tqdm(cat_l)):\n",
    "        annid=start_id+i+1\n",
    "        catidx=i\n",
    "        #specific - TODO unspecific\n",
    "        label_frames=frames_pushing\n",
    "        if c==\"nonpushing\": label_frames=frames_nonpushing\n",
    "        if not label_frames: continue #no frames of this category, therefore video of this category\n",
    "        catid=cat_l_id[catidx]\n",
    "        #dataset=cat_l_dset[catidx]\n",
    "        videoidx=0 #only one video per scenario\n",
    "        videoid=video_l_id[videoidx]\n",
    "        ann_id.append(annid)\n",
    "        ann_catid.append(catid)\n",
    "        ann_videoid.append(videoid)\n",
    "        ann_dset.append(dataset)\n",
    "        molajson['video_annotations'].append({'id':annid,\n",
    "                                        'category_id':catid,\n",
    "                                        'video_id':videoid,\n",
    "                                        'frame_start': int(label_frames[0]), #in frames, then it can be converted using the fps\n",
    "                                        'frame_end': int(label_frames[-1]), #in frames\n",
    "                                        \"label_frames\": len(label_frames),\n",
    "                                        'dataset':dataset})\n",
    "    print(\"\\n>> video_annotations:\\n\", molajson['video_annotations'][-2:])\"\"\"\n",
    "    return molajson, ann_id, ann_catid, ann_videoid, ann_dset\n",
    "molajson, ann_id, ann_catid, ann_videoid, ann_dset=create_video_annotations(molajson, gt,res, cat_l, cat_l_id, cat_l_dset, video_l_id)"
   ]
  },
  {
   "cell_type": "markdown",
   "metadata": {},
   "source": [
    "#### Missings handler"
   ]
  },
  {
   "cell_type": "code",
   "execution_count": 127,
   "metadata": {
    "tags": []
   },
   "outputs": [],
   "source": [
    "def missings_handler(imgdir,sensor):\n",
    "    gt = {'gTruth2': {\n",
    "        'DataSource': ['INCAR/20210521/Session 2/C9_P4_P3_2/rgb/1.png'],\n",
    "        'LabelDefinitions': [{'Name': 'pushing','Type': 'Scene','LabelColor': [0, 0.7241, 0.6552],'Group': 'None','Description': ''}],\n",
    "        'LabelData': [{'pushing': False}]}}\n",
    "    DIR = os.path.join(imgdir,sensor)\n",
    "    L_DIR = os.listdir(DIR)\n",
    "    L_DIR = sorted(L_DIR, key=lambda x: int(os.path.splitext(x.split('/')[-1])[0]))\n",
    "    frameslist=[name for name in L_DIR if os.path.isfile(os.path.join(DIR, name))]\n",
    "    gt['gTruth2']['DataSource']=[os.path.join(DIR, frame) for frame in frameslist]\n",
    "    gt['gTruth2']['LabelData']=[{'pushing': False} for frame in frameslist]\n",
    "        \n",
    "    return gt\n",
    "gt=missings_handler('/mnt/Data-Ext/Datasets/Internal Datasets/EASYRIDE/P19/INCAR/20210422/Session1/C13_P7_P8_1','rgb')"
   ]
  },
  {
   "cell_type": "markdown",
   "metadata": {},
   "source": [
    "# MULTI CASE STUDY (For loop script)"
   ]
  },
  {
   "cell_type": "code",
   "execution_count": 128,
   "metadata": {
    "tags": []
   },
   "outputs": [
    {
     "name": "stderr",
     "output_type": "stream",
     "text": [
      "100%|██████████| 1/1 [00:00<00:00, 18236.10it/s]"
     ]
    },
    {
     "name": "stdout",
     "output_type": "stream",
     "text": [
      ">>>\n",
      " EXTRACTING DATASET: INCAR\n",
      "JSON INITIATED : /mnt/Data-Ext/Recordings/EASYRIDE/P19/INCAR/push_mola.json\n",
      "\n",
      "\n",
      ">>>>>>>CONVERTING MISSING  gtFILE:  /mnt/Data-Ext/Recordings/EASYRIDE/P19/INCAR/20210422/Session1/C10_P7_P8_1/gt_nvs_push.json\n",
      ">>>>>>>MISSING:  /mnt/Data-Ext/Recordings/EASYRIDE/P19/INCAR/20210422/Session1/C10_P7_P8_1/gt_nvs_push.json [Errno 2] No such file or directory: '/mnt/Data-Ext/Recordings/EASYRIDE/P19/INCAR/20210422/Session1/C10_P7_P8_1/nvs_push' <class 'FileNotFoundError'>\n",
      "\n",
      "\n",
      ">>>>>>>CONVERTING MISSING  gtFILE:  /mnt/Data-Ext/Recordings/EASYRIDE/P19/INCAR/20210422/Session1/C10_P7_P8_2/gt_nvs_push.json\n",
      ">>>>>>>MISSING:  /mnt/Data-Ext/Recordings/EASYRIDE/P19/INCAR/20210422/Session1/C10_P7_P8_2/gt_nvs_push.json [Errno 2] No such file or directory: '/mnt/Data-Ext/Recordings/EASYRIDE/P19/INCAR/20210422/Session1/C10_P7_P8_2/nvs_push' <class 'FileNotFoundError'>\n",
      "\n",
      "\n",
      ">>>>>>>CONVERTING MISSING  gtFILE:  /mnt/Data-Ext/Recordings/EASYRIDE/P19/INCAR/20210422/Session1/C10_P8_P7_1/gt_nvs_push.json\n",
      ">>>>>>>MISSING:  /mnt/Data-Ext/Recordings/EASYRIDE/P19/INCAR/20210422/Session1/C10_P8_P7_1/gt_nvs_push.json [Errno 2] No such file or directory: '/mnt/Data-Ext/Recordings/EASYRIDE/P19/INCAR/20210422/Session1/C10_P8_P7_1/nvs_push' <class 'FileNotFoundError'>\n",
      "\n",
      "\n",
      ">>>>>>>CONVERTING MISSING  gtFILE:  /mnt/Data-Ext/Recordings/EASYRIDE/P19/INCAR/20210422/Session1/C10_P8_P7_2/gt_nvs_push.json\n",
      ">>>>>>>MISSING:  /mnt/Data-Ext/Recordings/EASYRIDE/P19/INCAR/20210422/Session1/C10_P8_P7_2/gt_nvs_push.json [Errno 2] No such file or directory: '/mnt/Data-Ext/Recordings/EASYRIDE/P19/INCAR/20210422/Session1/C10_P8_P7_2/nvs_push' <class 'FileNotFoundError'>\n",
      "\n",
      ">> categories:\n",
      " [{'name': 'pushing', 'id': 1, 'dataset': 1}, {'name': 'nonpushing', 'id': 2, 'dataset': 1}]\n"
     ]
    },
    {
     "name": "stderr",
     "output_type": "stream",
     "text": [
      "\n"
     ]
    },
    {
     "ename": "KeyError",
     "evalue": "'nvs_push'",
     "output_type": "error",
     "traceback": [
      "\u001b[0;31m---------------------------------------------------------------------------\u001b[0m",
      "\u001b[0;31mKeyError\u001b[0m                                  Traceback (most recent call last)",
      "\u001b[0;32m<ipython-input-128-177b048c25ef>\u001b[0m in \u001b[0;36m<module>\u001b[0;34m\u001b[0m\n\u001b[1;32m     85\u001b[0m                         \u001b[0mmolajson\u001b[0m\u001b[0;34m,\u001b[0m \u001b[0mcat_l\u001b[0m\u001b[0;34m,\u001b[0m \u001b[0mcat_l_id\u001b[0m\u001b[0;34m,\u001b[0m \u001b[0mcat_l_dset\u001b[0m \u001b[0;34m=\u001b[0m \u001b[0mimport_categories\u001b[0m\u001b[0;34m(\u001b[0m\u001b[0mmolajson\u001b[0m\u001b[0;34m,\u001b[0m \u001b[0mgt\u001b[0m\u001b[0;34m,\u001b[0m \u001b[0mstart_id\u001b[0m\u001b[0;34m=\u001b[0m\u001b[0mcat_start_id\u001b[0m\u001b[0;34m)\u001b[0m\u001b[0;34m\u001b[0m\u001b[0;34m\u001b[0m\u001b[0m\n\u001b[1;32m     86\u001b[0m                         \u001b[0mimported_cats\u001b[0m \u001b[0;34m=\u001b[0m \u001b[0;32mTrue\u001b[0m\u001b[0;34m\u001b[0m\u001b[0;34m\u001b[0m\u001b[0m\n\u001b[0;32m---> 87\u001b[0;31m                     molajson, video_l, video_l_id=import_videos(molajson, gt, res,\n\u001b[0m\u001b[1;32m     88\u001b[0m                                                                 \u001b[0mstart_id\u001b[0m\u001b[0;34m=\u001b[0m\u001b[0mvideo_start_id\u001b[0m\u001b[0;34m,\u001b[0m\u001b[0;34m\u001b[0m\u001b[0;34m\u001b[0m\u001b[0m\n\u001b[1;32m     89\u001b[0m                                                                 \u001b[0msensor\u001b[0m\u001b[0;34m=\u001b[0m\u001b[0msensor\u001b[0m\u001b[0;34m,\u001b[0m\u001b[0;34m\u001b[0m\u001b[0;34m\u001b[0m\u001b[0m\n",
      "\u001b[0;32m<ipython-input-118-f3c6fce0527c>\u001b[0m in \u001b[0;36mimport_videos\u001b[0;34m(molajson, gt, res, start_id, sensor, ext)\u001b[0m\n\u001b[1;32m     15\u001b[0m     molajson['videos'].append({'name':video_l[i],\n\u001b[1;32m     16\u001b[0m                                \u001b[0;34m'id'\u001b[0m\u001b[0;34m:\u001b[0m\u001b[0mvideo_l_id\u001b[0m\u001b[0;34m[\u001b[0m\u001b[0mi\u001b[0m\u001b[0;34m]\u001b[0m\u001b[0;34m,\u001b[0m\u001b[0;34m\u001b[0m\u001b[0;34m\u001b[0m\u001b[0m\n\u001b[0;32m---> 17\u001b[0;31m                                \u001b[0;34m'width'\u001b[0m\u001b[0;34m:\u001b[0m \u001b[0mres\u001b[0m\u001b[0;34m[\u001b[0m\u001b[0msensor\u001b[0m\u001b[0;34m]\u001b[0m\u001b[0;34m[\u001b[0m\u001b[0;36m0\u001b[0m\u001b[0;34m]\u001b[0m\u001b[0;34m,\u001b[0m\u001b[0;34m\u001b[0m\u001b[0;34m\u001b[0m\u001b[0m\n\u001b[0m\u001b[1;32m     18\u001b[0m                                \u001b[0;34m'height'\u001b[0m\u001b[0;34m:\u001b[0m \u001b[0mres\u001b[0m\u001b[0;34m[\u001b[0m\u001b[0msensor\u001b[0m\u001b[0;34m]\u001b[0m\u001b[0;34m[\u001b[0m\u001b[0;36m1\u001b[0m\u001b[0;34m]\u001b[0m\u001b[0;34m,\u001b[0m\u001b[0;34m\u001b[0m\u001b[0;34m\u001b[0m\u001b[0m\n\u001b[1;32m     19\u001b[0m                                \u001b[0;34m'sensor'\u001b[0m\u001b[0;34m:\u001b[0m \u001b[0msensor\u001b[0m\u001b[0;34m,\u001b[0m\u001b[0;34m\u001b[0m\u001b[0;34m\u001b[0m\u001b[0m\n",
      "\u001b[0;31mKeyError\u001b[0m: 'nvs_push'"
     ]
    }
   ],
   "source": [
    "datasets=['INCAR', 'INVICON']#['INCAR', 'INVICON']\n",
    "rdir=rdir\n",
    "# FOR LOOP\"\n",
    "datasetsdir = os.listdir(rdir)\n",
    "missing_gt_json=[]\n",
    "missing_gt_mat=[]\n",
    "label_folder=\"\"#\"gt\"\n",
    "missings_handler_b=True \n",
    "label_fname=\"gt_nvs_push.json\"#\"gt.json\"\n",
    "label_mat_fname=\"gt_nvs_push.mat\"#\"gt.m\"\n",
    "sensor=\"nvs_push\"\n",
    "ext=\".mp4\"\n",
    "did=1 #start dataset id\n",
    "for dataset in datasetsdir:\n",
    "    if dataset in datasets:\n",
    "        daysdir = os.path.join(rdir, dataset)\n",
    "        if not os.path.isdir(daysdir): continue  # test if is a folder\n",
    "        days = os.listdir(daysdir)\n",
    "        print(\">>>\\n EXTRACTING DATASET: \"+dataset)\n",
    "        #INIT JSON\n",
    "        molafile=rdir+dataset+'/'+'push_mola.json'\n",
    "        init_json(file=molafile)\n",
    "        molajson =  json.load(open(molafile))\n",
    "        molajson['datasets'] = [{'name': dataset, 'id': did}] #[{'name': d, 'id': i+1} for i,d in enumerate(datasets)]\n",
    "        did+=1 #nem dataset added\n",
    "        with open(molafile, 'w') as f:\n",
    "            json.dump(molajson, f)\n",
    "        #INIT VARS\n",
    "        imported_cats = False # import cats from each dataset\n",
    "        cat_start_id = 0\n",
    "        video_start_id = 0\n",
    "        img_start_id = 0\n",
    "        ann_start_id = 0\n",
    "        vid_ann_start_id = 0\n",
    "        cat_l, cat_l_id, cat_l_dset = [], [], []\n",
    "        video_l, video_l_id = [], []\n",
    "        img_l, img_l_id = [], []\n",
    "        ann_id, ann_catid, ann_imgid, ann_bbox, ann_dset = [], [], [], [], []\n",
    "        vid_ann_id, vid_ann_catid, ann_videoid, vid_ann_dset = [], [], [], []\n",
    "        #FOR LOOP\n",
    "        for day in days:\n",
    "            sessiondir = os.path.join(daysdir, day)\n",
    "            if not os.path.isdir(sessiondir): continue  # test if is a folder\n",
    "            sessions = os.listdir(sessiondir)\n",
    "            for session in sessions:\n",
    "                scenariosdir = os.path.join(sessiondir, session)\n",
    "                if not os.path.isdir(scenariosdir): continue  # test if is a folder\n",
    "                scenarios = os.listdir(scenariosdir)\n",
    "                for scenario in scenarios:\n",
    "                    if scenario in [\"\"]: continue #TODO: add list of SCENARIOS that we don't want to use\n",
    "                    imgdir = os.path.join(scenariosdir, scenario)\n",
    "                    if not os.path.isdir(imgdir): continue  # test if is a folder\n",
    "                    labeldir = os.path.join(imgdir, label_folder)\n",
    "                    # if not os.path.isdir(labeldir): continue #should exist\n",
    "                    filename = os.path.join(labeldir, label_fname)\n",
    "                    try:\n",
    "                        gt = json.load(open(filename))\n",
    "                    except:\n",
    "                        if missings_handler_b:\n",
    "                            print(\"\\n\\n>>>>>>>CONVERTING MISSING  gtFILE: \", filename)\n",
    "                            try:\n",
    "                                gt = missings_handler(imgdir,sensor)\n",
    "                                gt = fix_pahts(gt, dataset_root=dataset) #gTruth2 can be also missing missing\n",
    "                                missing_gt_json.append([filename,\"CONVERTED\"])\n",
    "                                if not os.path.isfile(filename.replace(label_fname, label_mat_fname)): missing_gt_mat.append(filename.replace(label_fname, label_mat_fname))\n",
    "                            except Exception as e:\n",
    "                                print(\">>>>>>>MISSING: \", filename, e, sys.exc_info()[0])\n",
    "                                missing_gt_json.append([filename,\"FAIL_CONVERT\"])\n",
    "                                if not os.path.isfile(filename.replace(label_fname, label_mat_fname)): missing_gt_mat.append(filename.replace(label_fname, label_mat_fname))\n",
    "                                continue\n",
    "                        else:\n",
    "                            print(\">>>>>>>MISSING : \", filename)\n",
    "                            missing_gt_json.append([filename,\"MISSING\"])\n",
    "                            if not os.path.isfile(filename.replace(label_fname, label_mat_fname)): missing_gt_mat.append(filename.replace(label_fname, label_mat_fname))\n",
    "                            continue\n",
    "                    #Fix paths\n",
    "                    try:\n",
    "                        gt = fix_pahts(gt, dataset_root=dataset) #gTruth2 can be also missing missing\n",
    "                    except:\n",
    "                        print(\">>>>>>> BUG gtFILE: \", filename)\n",
    "                        missing_gt_json.append([filename,\"BUG in GT file\"])\n",
    "                        if not os.path.isfile(filename.replace(label_fname, label_mat_fname)): missing_gt_mat.append(filename.replace(label_fname, label_mat_fname))\n",
    "                        continue\n",
    "                    # update molajson\n",
    "                    if not imported_cats:  # only imports one time\n",
    "                        molajson, cat_l, cat_l_id, cat_l_dset = import_categories(molajson, gt, start_id=cat_start_id)\n",
    "                        imported_cats = True        \n",
    "                    molajson, video_l, video_l_id=import_videos(molajson, gt, res,\n",
    "                                                                start_id=video_start_id,\n",
    "                                                                sensor=sensor,\n",
    "                                                                ext=ext)\n",
    "                    molajson, img_l, img_l_id=import_images(molajson, gt, res, \n",
    "                                                            start_id=img_start_id, \n",
    "                                                            video_id=video_l_id[-1])\n",
    "                    molajson, ann_id, ann_catid, ann_imgid, ann_bbox, ann_dset = create_annotations(molajson, gt, res,\n",
    "                                                                                                    cat_l, cat_l_id,\n",
    "                                                                                                    cat_l_dset, img_l_id,\n",
    "                                                                                                    start_id=ann_start_id,\n",
    "                                                                                                    sensor=sensor)\n",
    "                    molajson, vid_ann_id, vid_ann_catid, ann_videoid, vid_ann_dset=create_video_annotations(molajson, gt,res, \n",
    "                                                                                                cat_l, cat_l_id, \n",
    "                                                                                                cat_l_dset, video_l_id,\n",
    "                                                                                                start_id=vid_ann_start_id,\n",
    "                                                                                                sensor=sensor)\n",
    "                    # update start ids to the last id\n",
    "                    try:                     \n",
    "                        cat_start_id = cat_l_id[-1]\n",
    "                        video_start_id = video_l_id[-1]\n",
    "                        img_start_id = img_l_id[-1]\n",
    "                        ann_start_id = ann_id[-1]\n",
    "                        vid_ann_start_id = vid_ann_id[-1]\n",
    "                    except Exception as e:\n",
    "                        print(\">>>>>>> BUG IDs: \", filename, e, sys.exc_info()[0])\n",
    "                        missing_gt_json.append([filename,\"BUG IDs, missing frames?\", e])\n",
    "                        continue\n",
    "\n",
    "\n",
    "        # results\n",
    "        for k in molajson:\n",
    "            print(k, len(molajson[k]))\n",
    "\n",
    "        # # Save\n",
    "        print('\\n >> SAVING...')\n",
    "        jsonfile=molafile\n",
    "        with open(jsonfile, 'w') as f:\n",
    "            json.dump(molajson, f)\n",
    "        with open(jsonfile.replace('.json', '_missing_gtmat.txt'),'w') as f:\n",
    "            f.write(str(missing_gt_mat))\n",
    "        with open(jsonfile.replace('.json', '_missing_gtjson.txt'),'w') as f:\n",
    "            f.write(str(missing_gt_json))\n",
    "        print(\"JSON SAVED : {} \\n\".format(jsonfile))\n",
    "\n",
    "        #retest results\n",
    "        molajson =  json.load(open(molafile))\n",
    "        for k in molajson:\n",
    "            print(k, len(molajson[k]))"
   ]
  },
  {
   "cell_type": "markdown",
   "metadata": {},
   "source": [
    "### TESTING "
   ]
  },
  {
   "cell_type": "code",
   "execution_count": 44,
   "metadata": {
    "tags": []
   },
   "outputs": [
    {
     "name": "stdout",
     "output_type": "stream",
     "text": [
      "/mnt/Data-Ext/Datasets/Internal Datasets/EASYRIDE/P19/INCAR/mola.json\n",
      "info 5\n",
      "licenses 0\n",
      "categories 2\n",
      "videos 1275\n",
      "images 668992\n",
      "tracks 0\n",
      "segment_info 0\n",
      "annotations 668992\n",
      "video_annotations 2111\n",
      "datasets 1\n"
     ]
    }
   ],
   "source": [
    "molafile=rdir+'INCAR/'+'push_mola.json'\n",
    "print(molafile)\n",
    "molajson =  json.load(open(molafile))\n",
    "for k in molajson:\n",
    "    print(k, len(molajson[k]))"
   ]
  },
  {
   "cell_type": "code",
   "execution_count": 34,
   "metadata": {},
   "outputs": [
    {
     "name": "stdout",
     "output_type": "stream",
     "text": [
      "info 5\n",
      "licenses 0\n",
      "categories 2\n",
      "videos 1278\n",
      "images 592201\n",
      "tracks 0\n",
      "segment_info 0\n",
      "annotations 592201\n",
      "video_annotations 2041\n",
      "datasets 1\n"
     ]
    }
   ],
   "source": [
    "molafile=rdir+'INVICON/'+'push_mola.json'\n",
    "molajson =  json.load(open(molafile))\n",
    "for k in molajson:\n",
    "    print(k, len(molajson[k]))"
   ]
  },
  {
   "cell_type": "code",
   "execution_count": 35,
   "metadata": {},
   "outputs": [
    {
     "data": {
      "text/plain": [
       "{'name': 'INVICON', 'id': 1}"
      ]
     },
     "execution_count": 35,
     "metadata": {},
     "output_type": "execute_result"
    }
   ],
   "source": [
    "molajson[\"datasets\"][-1]"
   ]
  },
  {
   "cell_type": "code",
   "execution_count": 36,
   "metadata": {
    "tags": []
   },
   "outputs": [
    {
     "data": {
      "text/plain": [
       "{'name': 'NONVIOLENT', 'id': 2, 'dataset': 1}"
      ]
     },
     "execution_count": 36,
     "metadata": {},
     "output_type": "execute_result"
    }
   ],
   "source": [
    "molajson[\"categories\"][-1]"
   ]
  },
  {
   "cell_type": "code",
   "execution_count": 37,
   "metadata": {
    "tags": []
   },
   "outputs": [
    {
     "data": {
      "text/plain": [
       "{'name': 'INVICON/20210413/Session1/C18_P2_P7_2/INVICON_20210413_Session1_C18_P2_P7_2_rgb.mp4',\n",
       " 'id': 14,\n",
       " 'width': 2048,\n",
       " 'height': 1536,\n",
       " 'sensor': 'rgb',\n",
       " 'fps': 30,\n",
       " 'total_frames': 394,\n",
       " 'dataset': 1}"
      ]
     },
     "execution_count": 37,
     "metadata": {},
     "output_type": "execute_result"
    }
   ],
   "source": [
    "molajson[\"videos\"][13]"
   ]
  },
  {
   "cell_type": "code",
   "execution_count": 38,
   "metadata": {},
   "outputs": [
    {
     "data": {
      "text/plain": [
       "{'file_name': 'INVICON/20210413/Session1/C13_P2_P7_1/rgb/1.png',\n",
       " 'id': 1,\n",
       " 'video_id': 1,\n",
       " 'caption': 'Session1',\n",
       " 'width': 2048,\n",
       " 'height': 1536,\n",
       " 'frame_index': 1,\n",
       " 'date_captured': 'INVICON',\n",
       " 'dataset': 1}"
      ]
     },
     "execution_count": 38,
     "metadata": {},
     "output_type": "execute_result"
    }
   ],
   "source": [
    "molajson[\"images\"][0]"
   ]
  },
  {
   "cell_type": "code",
   "execution_count": 39,
   "metadata": {},
   "outputs": [
    {
     "data": {
      "text/plain": [
       "{'file_name': 'INVICON/20210511/Session1/C6_P16_P15_2/rgb/505.png',\n",
       " 'id': 592201,\n",
       " 'video_id': 1278,\n",
       " 'caption': 'Session1',\n",
       " 'width': 2048,\n",
       " 'height': 1536,\n",
       " 'frame_index': 505,\n",
       " 'date_captured': 'INVICON',\n",
       " 'dataset': 1}"
      ]
     },
     "execution_count": 39,
     "metadata": {},
     "output_type": "execute_result"
    }
   ],
   "source": [
    "molajson[\"images\"][-1]"
   ]
  },
  {
   "cell_type": "code",
   "execution_count": 40,
   "metadata": {},
   "outputs": [
    {
     "data": {
      "text/plain": [
       "{'id': 592201,\n",
       " 'category_id': 1,\n",
       " 'image_id': 592201,\n",
       " 'bbox': [0, 0, 2048, 1536],\n",
       " 'area': 3145728,\n",
       " 'iscrowd': 0,\n",
       " 'dataset': 1}"
      ]
     },
     "execution_count": 40,
     "metadata": {},
     "output_type": "execute_result"
    }
   ],
   "source": [
    "molajson[\"annotations\"][-1]"
   ]
  },
  {
   "cell_type": "code",
   "execution_count": 41,
   "metadata": {},
   "outputs": [
    {
     "data": {
      "text/plain": [
       "{'id': 1,\n",
       " 'category_id': 2,\n",
       " 'image_id': 1,\n",
       " 'bbox': [0, 0, 2048, 1536],\n",
       " 'area': 3145728,\n",
       " 'iscrowd': 0,\n",
       " 'dataset': 1}"
      ]
     },
     "execution_count": 41,
     "metadata": {},
     "output_type": "execute_result"
    }
   ],
   "source": [
    "molajson[\"annotations\"][0]"
   ]
  },
  {
   "cell_type": "code",
   "execution_count": 42,
   "metadata": {},
   "outputs": [
    {
     "data": {
      "text/plain": [
       "{'id': 33,\n",
       " 'category_id': 2,\n",
       " 'video_id': 25,\n",
       " 'frame_start': 1,\n",
       " 'frame_end': 511,\n",
       " 'label_frames': 511,\n",
       " 'dataset': 1}"
      ]
     },
     "execution_count": 42,
     "metadata": {},
     "output_type": "execute_result"
    }
   ],
   "source": [
    "molajson[\"video_annotations\"][32]"
   ]
  },
  {
   "cell_type": "code",
   "execution_count": 43,
   "metadata": {},
   "outputs": [
    {
     "data": {
      "text/plain": [
       "{'id': 14,\n",
       " 'category_id': 2,\n",
       " 'video_id': 14,\n",
       " 'frame_start': 1,\n",
       " 'frame_end': 394,\n",
       " 'label_frames': 394,\n",
       " 'dataset': 1}"
      ]
     },
     "metadata": {},
     "output_type": "display_data"
    }
   ],
   "source": [
    "# create video ann dict {video_id_category_id: video_annotations}\n",
    "videos_ann = {'%g' % x['id'] +'_'+'%g' % x['video_id'] +'_'+'%g' % x['category_id']: x for x in molajson['video_annotations']}\n",
    "k_14_2=[k for k in list(videos_ann.keys()) if k.find('_14_2')>-1]\n",
    "for k in k_14_2:\n",
    "    display(videos_ann[k])"
   ]
  },
  {
   "cell_type": "code",
   "execution_count": null,
   "metadata": {},
   "outputs": [],
   "source": []
  }
 ],
 "metadata": {
  "kernelspec": {
   "display_name": "Python 3",
   "language": "python",
   "name": "python3"
  },
  "language_info": {
   "codemirror_mode": {
    "name": "ipython",
    "version": 3
   },
   "file_extension": ".py",
   "mimetype": "text/x-python",
   "name": "python",
   "nbconvert_exporter": "python",
   "pygments_lexer": "ipython3",
   "version": "3.8.3"
  }
 },
 "nbformat": 4,
 "nbformat_minor": 4
}
