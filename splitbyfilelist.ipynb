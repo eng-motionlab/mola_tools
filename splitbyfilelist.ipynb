{
 "cells": [
  {
   "cell_type": "markdown",
   "metadata": {
    "tags": []
   },
   "source": [
    "# Split datasets by text filelist\n",
    "version: 1\n",
    "\n",
    "info:\n",
    "- filelist.txt\n",
    "\n",
    "author: nuno costa"
   ]
  },
  {
   "cell_type": "markdown",
   "metadata": {},
   "source": [
    "### SPLIT FILELIST"
   ]
  },
  {
   "cell_type": "code",
   "execution_count": 24,
   "metadata": {},
   "outputs": [],
   "source": [
    "def split_filelist(path):\n",
    "    filelist=[]\n",
    "    with open(path) as f:\n",
    "        filelist=f.readlines()\n",
    "    split=['train','val','test']\n",
    "    for s in split:\n",
    "        ps=[]\n",
    "        if s==\"train\": ps=['P'+str(i+1)+'_' for i in range(8)]\n",
    "        if s==\"val\": ps=['P'+str(i+1)+'_' for i in range(8,12)]\n",
    "        if s==\"test\": ps=['P'+str(i+1)+'_' for i in range(12,16)]\n",
    "        filelist_split=[l for l in filelist for p in ps if l.find(p)>-1]\n",
    "        filelist_split=list(dict.fromkeys(filelist_split))\n",
    "        fn_split=Path(path).stem.split('_')\n",
    "        fn_split[-2]=s\n",
    "        fn_split='_'.join(fn_split)\n",
    "        \n",
    "        with open(os.path.join(os.path.dirname(path),fn_split+'.txt'), 'w') as f:\n",
    "            f.writelines(filelist_split)\n",
    "    return\n",
    "#path=\n",
    "#split_filelist(outdir+\"recheck_\"+filename)"
   ]
  }
 ],
 "metadata": {
  "kernelspec": {
   "display_name": "Python 3 (ipykernel)",
   "language": "python",
   "name": "python3"
  },
  "language_info": {
   "codemirror_mode": {
    "name": "ipython",
    "version": 3
   },
   "file_extension": ".py",
   "mimetype": "text/x-python",
   "name": "python",
   "nbconvert_exporter": "python",
   "pygments_lexer": "ipython3",
   "version": "3.8.10"
  }
 },
 "nbformat": 4,
 "nbformat_minor": 4
}
